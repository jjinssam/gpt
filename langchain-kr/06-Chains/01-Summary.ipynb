{
 "cells": [
  {
   "cell_type": "markdown",
   "id": "846b4bd7",
   "metadata": {},
   "source": [
    "# 요약 (Summarization)\n",
    "\n",
    "이번 튜토리얼은 문서 요약을 수행하는 방법에 대해 살펴보겠습니다.\n",
    "\n",
    "아래는 튜토리얼의 주요 개요입니다.\n",
    "\n",
    "- Stuff: 전체 문서 한 번에 요약\n",
    "- Map-Reduce: 분할 요약 후 일괄 병합\n",
    "- Map-Refine: 분할 요약 후 점진적인 병합\n",
    "- Chain of Density: N번 반복 실행하며, 누락된 entity를 보완하며 요약 개선\n",
    "- Clustering-Map-Refine: 문서의 Chunk 를 N 개의 클러스터로 나누고, 각 클러스터에서 중심점에 가까운 문서에 대한 요약을 Refine 요약."
   ]
  },
  {
   "cell_type": "markdown",
   "id": "bb767264",
   "metadata": {},
   "source": [
    "## 대표적으로 알려진 요약 방식\n",
    "\n",
    "요약기를 구축할 때 중심적인 질문은 문서를 LLM의 컨텍스트 창에 어떻게 전달할 것인가입니다. 이를 위한 몇 가지 알려진 방식은 다음과 같습니다.\n",
    "\n",
    "1. `Stuff`: 단순히 모든 문서를 단일 프롬프트로 \"넣는\" 방식입니다. 이는 가장 간단한 접근 방식입니다.\n",
    "\n",
    "2. `Map-reduce`: 각 문서를 \"map\" 단계에서 개별적으로 요약한 다음, \"reduce\" 단계에서 요약본들을 최종 요약본으로 합치는 방식입니다.\n",
    "\n",
    "3. `Refine`: 입력 문서를 순회하며 반복적으로 답변을 업데이트하여 응답을 구성합니다. 각 문서에 대해, 모든 비문서 입력, 현재 문서, 그리고 최신 중간 답변을 chain에 전달하여 새로운 답변을 얻습니다.\n",
    "\n"
   ]
  },
  {
   "cell_type": "code",
   "execution_count": 7,
   "id": "9f51304f",
   "metadata": {},
   "outputs": [
    {
     "data": {
      "text/plain": [
       "True"
      ]
     },
     "execution_count": 7,
     "metadata": {},
     "output_type": "execute_result"
    }
   ],
   "source": [
    "# API KEY를 환경변수로 관리하기 위한 설정 파일\n",
    "from dotenv import load_dotenv\n",
    "\n",
    "# API KEY 정보로드\n",
    "load_dotenv()"
   ]
  },
  {
   "cell_type": "code",
   "execution_count": 8,
   "id": "0328a8af",
   "metadata": {},
   "outputs": [
    {
     "name": "stdout",
     "output_type": "stream",
     "text": [
      "LangSmith 추적을 시작합니다.\n",
      "[프로젝트명]\n",
      "Summary\n"
     ]
    }
   ],
   "source": [
    "# LangSmith 추적을 설정합니다. https://smith.langchain.com\n",
    "# !pip install langchain-teddynote\n",
    "from langchain_teddynote import logging\n",
    "\n",
    "# 프로젝트 이름을 입력합니다.\n",
    "logging.langsmith(\"Summary\")"
   ]
  },
  {
   "cell_type": "markdown",
   "id": "231e2e5f",
   "metadata": {},
   "source": [
    "## Stuff\n",
    "\n",
    "`stuff documents chain`(\"stuff\"는 \"채우다\" 또는 \"채우기 위해\"의 의미)는 문서 체인 중 가장 간단한 방식입니다. 문서 목록을 가져와서 모두 프롬프트에 삽입한 다음, 그 프롬프트를 LLM에 전달합니다.\n",
    "\n",
    "이 체인은 문서가 작고 대부분의 호출에 몇 개만 전달되는 애플리케이션에 적합합니다.\n"
   ]
  },
  {
   "cell_type": "markdown",
   "id": "e911836c",
   "metadata": {},
   "source": [
    "데이터를 로드합니다."
   ]
  },
  {
   "cell_type": "code",
   "execution_count": 9,
   "id": "2ce28f89",
   "metadata": {},
   "outputs": [
    {
     "name": "stdout",
     "output_type": "stream",
     "text": [
      "총 글자수: 1708\n",
      "\n",
      "========= 앞부분 미리보기 =========\n",
      "\n",
      "제목: \n",
      "AI2, 상업 활용까지 자유로운 '진짜' 오픈 소스 LLM '올모' 출시\n",
      "\n",
      "내용:\n",
      "앨런AI연구소(AI2)가 완전한 오픈 소스 대형언어모델(LLM) '올모(OLMo)’를 출시했다. 데이터 수집, 학습, 배포의 전 과정을 투명하게 공개한 데다 상업적 사용까지 허용한 진정한 의미의 오픈 소스 LLM이라는 평가다.\n",
      "벤처비트는 1일(현지시간) 비영리 민간 AI 연구기관인 AI2가 ‘최초의 진정한 오픈 소스 LLM 및 프레임워크’라고 소개한 ‘올모’를 출시했다고 보도했다. \n",
      "이에 따르면 올모는 모델 코드와 모델 가중치뿐만 아니라 훈련 코드, 훈련 데이터, 관련 툴킷 및 평가 툴킷도 제공한다. 이를 통해 모델이 어떻게 구축되었는지 심층적으로 분석, LLM의 작동 방식과 응답을 생성하는 원리를 더 잘 이해할 수 있다. \n",
      "올모 프레임워크는 70억 매개변수의 ‘올모 7B’ 등 4가지 변형 모델과 10억 매개변수의 ‘올모 1B’ 모델을 제공한다. 모델들은 훈련 데이터를 생성하는 코드를 포함해 \n"
     ]
    }
   ],
   "source": [
    "from langchain_community.document_loaders import TextLoader\n",
    "\n",
    "# 뉴스데이터 로드\n",
    "loader = TextLoader(\"data/news.txt\")\n",
    "docs = loader.load()\n",
    "print(f\"총 글자수: {len(docs[0].page_content)}\")\n",
    "print(\"\\n========= 앞부분 미리보기 =========\\n\")\n",
    "print(docs[0].page_content[:500])"
   ]
  },
  {
   "cell_type": "markdown",
   "id": "db46d1cc",
   "metadata": {},
   "source": [
    "아래는 한국어로 요약을 작성하라는 문구가 추가된 prompt 입니다."
   ]
  },
  {
   "cell_type": "code",
   "execution_count": 10,
   "id": "c6dcf878",
   "metadata": {},
   "outputs": [
    {
     "name": "stdout",
     "output_type": "stream",
     "text": [
      "Please summarize the sentence according to the following REQUEST.\n",
      "REQUEST:\n",
      "1. Summarize the main points in bullet points in KOREAN.\n",
      "2. Each summarized sentence must start with an emoji that fits the meaning of the each sentence.\n",
      "3. Use various emojis to make the summary more interesting.\n",
      "4. Translate the summary into KOREAN if it is written in ENGLISH.\n",
      "5. DO NOT translate any technical terms.\n",
      "6. DO NOT include any unnecessary information.\n",
      "\n",
      "CONTEXT:\n",
      "\u001b[33;1m\u001b[1;3m{context}\u001b[0m\n",
      "\n",
      "SUMMARY:\"\n",
      "\n"
     ]
    }
   ],
   "source": [
    "from langchain import hub\n",
    "\n",
    "prompt = hub.pull(\"teddynote/summary-stuff-documents-korean\")\n",
    "prompt.pretty_print()"
   ]
  },
  {
   "cell_type": "code",
   "execution_count": 11,
   "id": "cebce2c0",
   "metadata": {},
   "outputs": [
    {
     "name": "stdout",
     "output_type": "stream",
     "text": [
      "- 🚀 앨런AI연구소(AI2)가 완전한 오픈 소스 LLM '올모(OLMo)'를 출시했다.  \n",
      "- 📊 데이터 수집, 학습, 배포 과정을 투명하게 공개하고 상업적 사용을 허용한다.  \n",
      "- 🛠️ 모델 코드, 가중치, 훈련 코드, 데이터 및 평가 툴킷을 제공하여 심층 분석이 가능하다.  \n",
      "- 📈 '올모 7B'와 '올모 1B' 등 다양한 변형 모델을 포함하고 있다.  \n",
      "- 🔍 훈련 데이터는 AI2의 '돌마(Dolma)' 데이터 세트를 기반으로 하며, 3조개의 토큰을 특징으로 한다.  \n",
      "- 📜 아파치 2.0 라이선스에 따라 상업적 활용에 제한이 없다.  \n",
      "- 💡 AI2는 연구자들이 안전하고 신뢰할 수 있는 LLM 시스템을 구축할 수 있도록 지원한다고 밝혔다.  \n",
      "- 🏆 올모는 상업용 제품과 동등한 성능을 보여주며, 일부 벤치마크 테스트에서 우수한 성과를 기록했다.  \n",
      "- 🌍 비영어권 언어와 코드 생성 기능에 대한 제약이 존재한다.  \n",
      "- 🔄 AI2는 올모를 지속적으로 개선할 계획이다.  \n",
      "- 🌐 현재 올모의 모든 리소스는 깃허브 및 허깅페이스에서 무료로 제공된다.  "
     ]
    }
   ],
   "source": [
    "from langchain_openai import ChatOpenAI\n",
    "from langchain.chains.combine_documents import create_stuff_documents_chain\n",
    "from langchain_teddynote.callbacks import StreamingCallback\n",
    "\n",
    "\n",
    "llm = ChatOpenAI(\n",
    "    model_name=\"gpt-4o-mini\",\n",
    "    streaming=True,\n",
    "    temperature=0,\n",
    "    callbacks=[StreamingCallback()],\n",
    ")\n",
    "\n",
    "\n",
    "stuff_chain = create_stuff_documents_chain(llm, prompt)\n",
    "answer = stuff_chain.invoke({\"context\": docs})"
   ]
  },
  {
   "cell_type": "markdown",
   "id": "af0d63d3",
   "metadata": {},
   "source": [
    "## Map-Reduce\n",
    "\n",
    "Map-reduce 방식의 요약은 긴 문서를 효율적으로 요약하는 기법입니다. \n",
    "\n",
    "이 방법은 먼저 문서를 작은 chunk로 나누는 \"map\" 단계와, 각 chunk의 요약을 결합하는 \"reduce\" 단계로 구성됩니다. \n",
    "\n",
    "1. Map 단계에서는 각 chunk를 병렬로 요약하고\n",
    "2. reduce 단계에서는 이 요약들을 하나의 최종 요약으로 통합합니다. \n",
    "\n",
    "이 접근법은 대규모 문서를 처리할 때 특히 유용하며, 언어 모델의 토큰 제한을 우회할 수 있게 해줍니다.\n",
    "\n",
    "![](./images/summarization_use_case_2.png)"
   ]
  },
  {
   "cell_type": "markdown",
   "id": "2f6f0cce",
   "metadata": {},
   "source": [
    "데이터를 로드합니다."
   ]
  },
  {
   "cell_type": "code",
   "execution_count": 12,
   "id": "e796269b",
   "metadata": {},
   "outputs": [
    {
     "name": "stdout",
     "output_type": "stream",
     "text": [
      "총 페이지수: 5\n"
     ]
    }
   ],
   "source": [
    "from langchain_community.document_loaders import PyPDFLoader\n",
    "\n",
    "loader = PyPDFLoader(\"data/SPRI_AI_Brief_2023년12월호_F.pdf\")\n",
    "docs = loader.load()\n",
    "docs = docs[3:8]  # 여기서 문서의 일부만 요약\n",
    "print(f\"총 페이지수: {len(docs)}\")"
   ]
  },
  {
   "cell_type": "markdown",
   "id": "0a790030",
   "metadata": {},
   "source": [
    "### Map\n",
    "\n",
    "map 단계에서는 각 Chunk 에 대한 요약을 생성합니다. \n",
    "\n",
    "(사실 정석은 Chunk 에 대한 요약 생성이지만, 저는 핵심 내용 추출로 변경하여 진행합니다. 어차피 reduce 단계에서 요약을 하나로 합치는 과정이기 때문에 상관없습니다.)\n",
    "\n",
    "저는 이 방식이 더 유효하다고 생각하였지만, map 단계에 요약을 할지 혹은 핵심 내용을 추출할지는 본인의 판단하에 변경하여 진행할 수 있습니다."
   ]
  },
  {
   "cell_type": "code",
   "execution_count": 104,
   "id": "f665b4e7",
   "metadata": {},
   "outputs": [
    {
     "name": "stdout",
     "output_type": "stream",
     "text": [
      "================================\u001b[1m System Message \u001b[0m================================\n",
      "\n",
      "You are a professional main thesis extractor.\n",
      "\n",
      "================================\u001b[1m Human Message \u001b[0m=================================\n",
      "\n",
      "Your task is to extract main thesis from given documents. Answer should be in same language as given document. \n",
      "\n",
      "#Format: \n",
      "- thesis 1\n",
      "- thesis 2\n",
      "- thesis 3\n",
      "- ...\n",
      "\n",
      "Here is a given document: \n",
      "\u001b[33;1m\u001b[1;3m{doc}\u001b[0m\n",
      "\n",
      "Write 1~5 sentences.\n",
      "#Answer:\n"
     ]
    }
   ],
   "source": [
    "from langchain import hub\n",
    "from langchain_openai import ChatOpenAI\n",
    "from langchain_core.output_parsers import StrOutputParser\n",
    "\n",
    "llm = ChatOpenAI(\n",
    "    temperature=0,\n",
    "    model_name=\"gpt-4o-mini\",\n",
    ")\n",
    "\n",
    "# map prompt 다운로드\n",
    "map_prompt = hub.pull(\"teddynote/map-prompt\")\n",
    "\n",
    "# 프롬프트 출력\n",
    "map_prompt.pretty_print()"
   ]
  },
  {
   "cell_type": "markdown",
   "id": "a0a45e03",
   "metadata": {},
   "source": [
    "map_chain 을 생성합니다."
   ]
  },
  {
   "cell_type": "code",
   "execution_count": null,
   "id": "d7e8200d",
   "metadata": {},
   "outputs": [],
   "source": [
    "# map chain 생성\n",
    "map_chain = map_prompt | llm | StrOutputParser()"
   ]
  },
  {
   "cell_type": "markdown",
   "id": "52f07bcb",
   "metadata": {},
   "source": [
    "batch() 를 호출하여 각 문서에 대한 요약본을 생성합니다."
   ]
  },
  {
   "cell_type": "code",
   "execution_count": 14,
   "id": "98913c63",
   "metadata": {},
   "outputs": [],
   "source": [
    "# 문서에 대한 주요내용 추출\n",
    "doc_summaries = map_chain.batch(docs)"
   ]
  },
  {
   "cell_type": "code",
   "execution_count": 15,
   "id": "935f4c4b",
   "metadata": {},
   "outputs": [
    {
     "data": {
      "text/plain": [
       "5"
      ]
     },
     "execution_count": 15,
     "metadata": {},
     "output_type": "execute_result"
    }
   ],
   "source": [
    "# 요약된 문서의 수 출력\n",
    "len(doc_summaries)"
   ]
  },
  {
   "cell_type": "code",
   "execution_count": 16,
   "id": "76317f3a",
   "metadata": {},
   "outputs": [
    {
     "name": "stdout",
     "output_type": "stream",
     "text": [
      "- 미국 바이든 대통령은 안전하고 신뢰할 수 있는 AI 개발과 사용을 보장하기 위한 행정명령을 발표하였다.\n",
      "- 이 행정명령은 AI의 안전과 보안 기준 마련, 개인정보 보호, 형평성과 시민권 향상, 소비자 보호, 노동자 지원, 혁신과 경쟁 촉진, 국제 협력을 포함한다.\n",
      "- AI 시스템 개발 기업은 안전 테스트 결과와 시스템 정보를 미국 정부와 공유해야 하며, AI 생성 콘텐츠에 대한 표준과 모범사례를 확립해야 한다.\n",
      "- 형평성과 시민권 향상을 위해 AI의 무책임한 사용으로 인한 차별과 편견을 방지하는 조치를 확대할 예정이다.\n",
      "- 국가 AI 연구자원(NAIRR)을 통해 미국 전역의 AI 연구를 촉진하고, 중소기업과 개발자에게 기술과 인프라를 지원할 계획이다.\n"
     ]
    }
   ],
   "source": [
    "# 일부 문서의 요약 출력\n",
    "print(doc_summaries[0])"
   ]
  },
  {
   "cell_type": "markdown",
   "id": "f2bf1fe4",
   "metadata": {},
   "source": [
    "### Reduce\n",
    "\n",
    "Reduce 단계에서는 map 단계에서 진행한 핵심 내용들을 하나의 최종 요약으로 통합합니다. "
   ]
  },
  {
   "cell_type": "code",
   "execution_count": 103,
   "id": "2e52a1e4",
   "metadata": {},
   "outputs": [
    {
     "name": "stdout",
     "output_type": "stream",
     "text": [
      "================================\u001b[1m System Message \u001b[0m================================\n",
      "\n",
      "You are a professional summarizer. You are given a list of summaries of documents and you are asked to create a single summary of the documents.\n",
      "\n",
      "================================\u001b[1m Human Message \u001b[0m=================================\n",
      "\n",
      "#Instructions: \n",
      "1. Extract main points from a list of summaries of documents\n",
      "2. Make final summaries in bullet points format.\n",
      "3. Answer should be written in \u001b[33;1m\u001b[1;3m{language}\u001b[0m.\n",
      "\n",
      "#Format: \n",
      "- summary 1\n",
      "- summary 2\n",
      "- summary 3\n",
      "- ...\n",
      "\n",
      "Here is a list of summaries of documents: \n",
      "\u001b[33;1m\u001b[1;3m{doc_summaries}\u001b[0m\n",
      "\n",
      "#SUMMARY:\n"
     ]
    }
   ],
   "source": [
    "# reduce prompt 다운로드\n",
    "reduce_prompt = hub.pull(\"teddynote/reduce-prompt\")\n",
    "\n",
    "# 프롬프트 출력\n",
    "reduce_prompt.pretty_print()"
   ]
  },
  {
   "cell_type": "markdown",
   "id": "3fcf997a",
   "metadata": {},
   "source": [
    "Reduce Chain 을 생성합니다."
   ]
  },
  {
   "cell_type": "code",
   "execution_count": null,
   "id": "01e3fe25",
   "metadata": {},
   "outputs": [],
   "source": [
    "# reduce chain 생성\n",
    "reduce_chain = reduce_prompt | llm | StrOutputParser()"
   ]
  },
  {
   "cell_type": "markdown",
   "id": "3d365133",
   "metadata": {},
   "source": [
    "아래는 Reduce Chain 을 사용하여 스트리밍 출력 예시입니다."
   ]
  },
  {
   "cell_type": "code",
   "execution_count": 18,
   "id": "988ddc6f",
   "metadata": {},
   "outputs": [
    {
     "name": "stdout",
     "output_type": "stream",
     "text": [
      "- 미국 바이든 대통령은 AI의 안전과 신뢰성을 보장하기 위한 행정명령을 발표하고, AI 시스템 개발 기업의 안전 테스트 결과 공유를 요구하였다.\n",
      "- G7은 '히로시마 AI 프로세스'를 통해 AI 기업을 위한 국제 행동강령에 합의하고, AI 생성 콘텐츠의 신뢰성을 높이기 위한 인증 메커니즘 개발을 제안하였다.\n",
      "- 28개국은 AI 안전성 정상회의에서 블레츨리 선언을 발표하고, AI 안전 연구소 출범과 안전성 시험 계획을 발표하였다.\n",
      "- 미국 법원은 예술가들이 AI에 대한 저작권 침해 소송을 기각하며, 저작권 미등록 문제를 지적하였다.\n",
      "- 미국 연방거래위원회(FTC)는 생성 AI의 소비자 피해 가능성과 빅테크의 시장 지배력 우려를 표명하고, 공정한 경쟁 시장 유지를 강조하였다."
     ]
    }
   ],
   "source": [
    "from langchain_teddynote.messages import stream_response\n",
    "\n",
    "answer = reduce_chain.stream({\"doc_summaries\": doc_summaries, \"language\": \"Korean\"})\n",
    "stream_response(answer)"
   ]
  },
  {
   "cell_type": "code",
   "execution_count": 19,
   "id": "7c060863",
   "metadata": {},
   "outputs": [],
   "source": [
    "from langchain_core.runnables import chain\n",
    "\n",
    "\n",
    "@chain\n",
    "def map_reduce_chain(docs):\n",
    "    map_llm = ChatOpenAI(\n",
    "        temperature=0,\n",
    "        model_name=\"gpt-4o-mini\",\n",
    "    )\n",
    "\n",
    "    # map prompt 다운로드\n",
    "    map_prompt = hub.pull(\"teddynote/map-prompt\")\n",
    "\n",
    "    # map chain 생성\n",
    "    map_chain = map_prompt | map_llm | StrOutputParser()\n",
    "\n",
    "    # 첫 번째 프롬프트, ChatOpenAI, 문자열 출력 파서를 연결하여 체인을 생성합니다.\n",
    "    doc_summaries = map_chain.batch(docs)\n",
    "\n",
    "    # reduce prompt 다운로드\n",
    "    reduce_prompt = hub.pull(\"teddynote/reduce-prompt\")\n",
    "    reduce_llm = ChatOpenAI(\n",
    "        model_name=\"gpt-4o\",\n",
    "        temperature=0,\n",
    "        callbacks=[StreamingCallback()],\n",
    "        streaming=True,\n",
    "    )\n",
    "\n",
    "    reduce_chain = reduce_prompt | reduce_llm | StrOutputParser()\n",
    "\n",
    "    return reduce_chain.invoke({\"doc_summaries\": doc_summaries, \"language\": \"Korean\"})"
   ]
  },
  {
   "cell_type": "code",
   "execution_count": 20,
   "id": "e31de2a6",
   "metadata": {},
   "outputs": [
    {
     "name": "stdout",
     "output_type": "stream",
     "text": [
      "- 미국 바이든 대통령은 안전하고 신뢰할 수 있는 AI 개발과 사용을 보장하기 위한 행정명령을 발표하였다. 이 명령은 AI의 안전과 보안 기준 마련, 개인정보 보호, 형평성과 시민권 향상, 소비자 보호, 노동자 지원, 혁신과 경쟁 촉진, 국제 협력을 포함한다.\n",
      "- G7은 '히로시마 AI 프로세스'를 통해 AI 기업을 위한 국제 행동강령에 합의하였다. 이 강령은 AI 수명주기 전반에 걸친 위험 평가와 완화, 투명성과 책임성 보장, 정보공유 및 이해관계자 간 협력을 요구한다.\n",
      "- 28개국이 영국 블레츨리 파크에서 열린 AI 안전성 정상회의에서 AI 안전 보장을 위한 협력 방안을 담은 블레츨리 선언을 발표했다. 선언은 AI 시스템의 안전을 보장하기 위해 모든 이해관계자의 협력이 중요하다고 강조하며, 첨단 AI 개발 기업의 책임을 지적했다.\n",
      "- 미국 캘리포니아 북부지방법원은 예술가들이 생성 AI 기업에 제기한 저작권 침해 소송을 기각하였다. 기각 사유로는 고소장에 제시된 작품들이 저작권청에 등록되지 않았고, AI로 생성된 이미지와 특정 작품 간의 유사성을 입증하기 어렵다는 점이 있었다.\n",
      "- 미국 연방거래위원회(FTC)는 생성 AI로 인한 소비자와 창작자의 피해 가능성 및 빅테크의 시장 지배력 강화 우려를 표명했다. FTC는 생성 AI의 개발과 배포가 소비자 개인정보 침해, 차별과 편견의 자동화, 사기 범죄 등 다양한 위험을 초래할 수 있다고 경고했다."
     ]
    }
   ],
   "source": [
    "# 결과 출력\n",
    "answer = map_reduce_chain.invoke(docs)"
   ]
  },
  {
   "cell_type": "markdown",
   "id": "472e5d84",
   "metadata": {},
   "source": [
    "## Map-Refine\n",
    "\n",
    "Map-refine 방식은 문서 요약을 위한 또 다른 접근법으로, map-reduce와 유사하지만 약간의 차이가 있습니다. \n",
    "\n",
    "1. Map 단계: 문서를 여러 개의 작은 chunk로 나누고, 각 chunk에 대해 개별적으로 요약을 생성합니다.\n",
    "\n",
    "2. Refine 단계: 생성된 요약들을 순차적으로 처리하며 최종 요약을 점진적으로 개선합니다. 각 단계에서 이전 요약과 새로운 chunk의 정보를 결합하여 요약을 갱신합니다.\n",
    "   \n",
    "3. 반복 과정: 모든 chunk가 처리될 때까지 refine 단계를 반복합니다.\n",
    "\n",
    "4. 최종 요약: 마지막 chunk까지 처리한 후 얻은 요약이 최종 결과가 됩니다.\n",
    "\n",
    "map-refine 방식의 장점은 문서의 순서를 유지하면서 점진적으로 요약을 개선할 수 있다는 것입니다. 이는 특히 문서의 맥락이 중요한 경우에 유용할 수 있습니다. 그러나 이 방식은 map-reduce 에 비해 순차적으로 처리되기 때문에 병렬화가 어려워 대규모 문서 처리 시 시간이 더 오래 걸릴 수 있습니다.\n",
    "\n",
    "![](./images/summarization_use_case_3.png)"
   ]
  },
  {
   "cell_type": "markdown",
   "id": "33c83b1d",
   "metadata": {},
   "source": [
    "### Map\n",
    "\n",
    "map 단계에서는 각 Chunk 에 대한 요약을 생성합니다. "
   ]
  },
  {
   "cell_type": "code",
   "execution_count": 105,
   "id": "4e70abc7",
   "metadata": {},
   "outputs": [
    {
     "name": "stdout",
     "output_type": "stream",
     "text": [
      "================================\u001b[1m System Message \u001b[0m================================\n",
      "\n",
      "You are an expert summarizer. Your task is to summarize the following document in \u001b[33;1m\u001b[1;3m{language}\u001b[0m.\n",
      "\n",
      "================================\u001b[1m Human Message \u001b[0m=================================\n",
      "\n",
      "Extract most important main thesis from the documents, then summarize in bullet points.\n",
      "\n",
      "#Format:\n",
      "- summary 1\n",
      "- summary 2\n",
      "- summary 3\n",
      "-...\n",
      "\n",
      "Here is a given document: \n",
      "\u001b[33;1m\u001b[1;3m{documents}\u001b[0m\n",
      "\n",
      "Write 1~5 sentences. Think step by step.\n",
      "#Summary:\n"
     ]
    }
   ],
   "source": [
    "from langchain import hub\n",
    "from langchain_openai import ChatOpenAI\n",
    "from langchain_core.output_parsers import StrOutputParser\n",
    "\n",
    "# map llm 생성\n",
    "map_llm = ChatOpenAI(\n",
    "    temperature=0,\n",
    "    model_name=\"gpt-4o-mini\",\n",
    ")\n",
    "\n",
    "# map chain 생성\n",
    "map_summary = hub.pull(\"teddynote/map-summary-prompt\")\n",
    "\n",
    "# 프롬프트 출력\n",
    "map_summary.pretty_print()"
   ]
  },
  {
   "cell_type": "markdown",
   "id": "2d9cbde9",
   "metadata": {},
   "source": [
    "map_chain 을 생성합니다."
   ]
  },
  {
   "cell_type": "code",
   "execution_count": null,
   "id": "dc1f58db",
   "metadata": {},
   "outputs": [],
   "source": [
    "# map chain 생성\n",
    "map_chain = map_summary | llm | StrOutputParser()"
   ]
  },
  {
   "cell_type": "markdown",
   "id": "b6f61f4e",
   "metadata": {},
   "source": [
    "첫 번째 문서에 대한 요약본을 출력합니다."
   ]
  },
  {
   "cell_type": "code",
   "execution_count": 22,
   "id": "6220830c",
   "metadata": {},
   "outputs": [
    {
     "name": "stdout",
     "output_type": "stream",
     "text": [
      "- 미국 바이든 대통령이 안전하고 신뢰할 수 있는 AI 개발과 사용을 위한 행정명령을 발표하였다.\n",
      "- 행정명령은 AI의 안전과 보안 기준, 개인정보 보호, 형평성과 시민권 향상, 소비자 보호, 노동자 지원, 혁신과 경쟁 촉진, 국제 협력을 포함한다.\n",
      "- AI 시스템 개발 기업은 안전 테스트 결과와 시스템 정보를 정부와 공유해야 하며, AI 생성 콘텐츠에 대한 표준과 모범사례를 확립할 예정이다.\n",
      "- 형평성과 시민권 향상을 위해 AI의 무책임한 사용으로 인한 차별을 방지하는 조치를 확대하고, 소비자 보호와 근로자 지원을 위한 원칙과 모범사례를 마련한다.\n",
      "- 국가 AI 연구자원(NAIRR)을 통해 AI 연구를 촉진하고, 외국인 전문가들이 미국에서 공부하고 취업할 수 있도록 지원할 계획이다.\n"
     ]
    }
   ],
   "source": [
    "# 첫 번째 문서의 요약 출력\n",
    "print(map_chain.invoke({\"documents\": docs[0], \"language\": \"Korean\"}))"
   ]
  },
  {
   "cell_type": "code",
   "execution_count": 23,
   "id": "e6804299",
   "metadata": {},
   "outputs": [],
   "source": [
    "# 모든 문서를 입력으로 정의합니다.\n",
    "input_doc = [{\"documents\": doc, \"language\": \"Korean\"} for doc in docs]"
   ]
  },
  {
   "cell_type": "code",
   "execution_count": 24,
   "id": "22e847c7",
   "metadata": {},
   "outputs": [
    {
     "name": "stdout",
     "output_type": "stream",
     "text": [
      "['- 미국 바이든 대통령이 안전하고 신뢰할 수 있는 AI 개발과 사용을 위한 행정명령을 발표하였다.\\n- 행정명령은 AI의 안전과 보안 기준, 개인정보 보호, 형평성과 시민권 향상, 소비자 보호, 노동자 지원, 혁신과 경쟁 촉진, 국제 협력을 포함한다.\\n- AI 시스템 개발 기업은 안전 테스트 결과와 시스템 정보를 정부와 공유해야 하며, AI 생성 콘텐츠에 대한 표준과 모범사례를 확립할 예정이다.\\n- 형평성과 시민권 향상을 위해 AI의 무책임한 사용으로 인한 차별을 방지하는 조치를 확대하고, 소비자 보호와 근로자 지원을 위한 원칙과 모범사례를 마련한다.\\n- 국가 AI 연구자원(NAIRR)을 통해 AI 연구를 촉진하고, 외국인 전문가들이 미국에서 공부하고 취업할 수 있도록 지원할 계획이다.', \"- G7은 2023년 10월 30일 '히로시마 AI 프로세스'를 통해 AI 기업을 위한 국제 행동강령에 합의하였다.\\n- 이 행동강령은 AI 시스템의 위험 식별과 완화를 위한 자발적인 채택을 권장하며, AI 수명주기 전반에 걸친 위험 평가와 투명성, 책임성을 강조한다.\\n- 주요 내용으로는 정보 공유, 협력, 보안 통제, 콘텐츠 인증 및 출처 확인 등이 포함되어 있다.\\n- G7은 AI 기술의 빠른 발전에 대응하기 위해 이해관계자 협의를 통해 행동강령을 필요에 따라 개정할 예정이다.\\n- 또한, 사회적 위험 완화와 세계적 난제 해결을 위한 AI 시스템 개발을 우선시하고, 개인정보 보호를 위한 적절한 보호 장치를 구현할 계획이다.\", \"- 28개국이 영국 블레츨리 파크에서 열린 AI 안전성 정상회의에서 AI 위험에 공동 대응하기 위한 '블레츨리 선언'을 발표했다.\\n- 선언은 AI 시스템의 안전 보장을 위해 모든 이해관계자의 협력이 중요하다고 강조하며, 특히 AI 개발 기업의 안전 평가 책임을 지적했다.\\n- 영국 총리는 AI 안전 연구소의 출범과 함께 첨단 AI 모델에 대한 안전성 시험 계획을 발표하고, 각국 정부는 테스트 결과를 공유하고 공동 표준 개발에 노력하기로 합의했다.\\n- 참가국들은 AI의 위험과 가능성에 대한 과학적 평가를 위한 보고서 작성을 합의했으며, 한국은 영국과 AI 미니 정상회의를 공동 개최할 예정이다.\", '- 미국 캘리포니아 북부지방법원은 예술가들이 미드저니, 스태빌리티 AI, 디비언트아트를 상대로 제기한 저작권 침해 소송을 기각했다.\\n- 기각 사유로는 고소장에 제시된 작품들이 저작권청에 등록되지 않았고, AI로 생성된 이미지와 특정 작품 간의 유사성을 입증하기 어렵다는 점이 있었다.\\n- 판사는 원고 측에 고소장을 수정하고 저작권이 침해된 특정 이미지를 중심으로 소송 범위를 줄여 다시 제기할 것을 요청했다.\\n- 그러나 사라 앤더슨이 저작권을 보유한 16개 작품에 대한 스태빌리티 AI의 저작권 침해 소송은 계속 진행된다.', '- 미국 연방거래위원회(FTC)는 저작권청에 제출한 의견서에서 생성 AI로 인한 소비자와 창작자의 피해 가능성을 우려하고, 일부 빅테크의 시장 지배력 강화에 대한 우려를 표명했다.\\n- FTC는 생성 AI의 사용이 소비자의 개인정보 침해, 차별 및 편견의 자동화, 사기 범죄 등 여러 위험을 초래할 수 있다고 지적했다.\\n- 저작권법에 저촉되는 행위가 불공정 경쟁이나 기만행위로 이어질 수 있으며, 이는 창작자의 평판과 저작물의 가치에 부정적인 영향을 미칠 수 있다.\\n- FTC는 일부 빅테크가 생성 AI 사용자의 이탈을 방지하고 독점 라이선스를 확보하여 시장 지배력을 강화할 수 있다는 우려를 제기했다.\\n- FTC는 AI 관련 불법 행위에 대처하기 위해 법적 권한을 활용하고, 소비자 보호와 공정한 경쟁 시장 유지를 위해 모든 권한을 사용할 것이라고 강조했다.']\n"
     ]
    }
   ],
   "source": [
    "# 모든 문서에 대한 요약본을 출력합니다.\n",
    "print(map_chain.batch(input_doc))"
   ]
  },
  {
   "cell_type": "markdown",
   "id": "5ac15984",
   "metadata": {},
   "source": [
    "### Refine\n",
    "\n",
    "Refine 단계에서는 이전의 map 단계에서 생성한 chunk들을 순차적으로 처리하며 최종 요약을 점진적으로 개선합니다. "
   ]
  },
  {
   "cell_type": "code",
   "execution_count": 106,
   "id": "8679bd44",
   "metadata": {},
   "outputs": [
    {
     "name": "stdout",
     "output_type": "stream",
     "text": [
      "================================\u001b[1m System Message \u001b[0m================================\n",
      "\n",
      "You are an expert summarizer.\n",
      "\n",
      "================================\u001b[1m Human Message \u001b[0m=================================\n",
      "\n",
      "Your job is to produce a final summary\n",
      "\n",
      "We have provided an existing summary up to a certain point:\n",
      "\u001b[33;1m\u001b[1;3m{previous_summary}\u001b[0m\n",
      "\n",
      "We have the opportunity to refine the existing summary(only if needed) with some more context below.\n",
      "------------\n",
      "\u001b[33;1m\u001b[1;3m{current_summary}\u001b[0m\n",
      "------------\n",
      "Given the new context, refine the original summary in \u001b[33;1m\u001b[1;3m{language}\u001b[0m.\n",
      "If the context isn't useful, return the original summary.\n"
     ]
    }
   ],
   "source": [
    "# refine prompt 다운로드\n",
    "refine_prompt = hub.pull(\"teddynote/refine-prompt\")\n",
    "\n",
    "# 프롬프트 출력\n",
    "refine_prompt.pretty_print()"
   ]
  },
  {
   "cell_type": "code",
   "execution_count": null,
   "id": "97282d5f",
   "metadata": {},
   "outputs": [],
   "source": [
    "# refine llm 생성\n",
    "refine_llm = ChatOpenAI(\n",
    "    temperature=0,\n",
    "    model_name=\"gpt-4o-mini\",\n",
    ")\n",
    "\n",
    "# refine chain 생성\n",
    "refine_chain = refine_prompt | refine_llm | StrOutputParser()"
   ]
  },
  {
   "cell_type": "markdown",
   "id": "c09e3467",
   "metadata": {},
   "source": [
    "아래는 map_reduce_chain 을 생성하는 예시입니다. \n",
    "\n",
    "지금까지의 일련의 과정을 하나의 chain 으로 엮습니다."
   ]
  },
  {
   "cell_type": "code",
   "execution_count": 26,
   "id": "2bcb389f",
   "metadata": {},
   "outputs": [],
   "source": [
    "from langchain_core.runnables import chain\n",
    "\n",
    "\n",
    "@chain\n",
    "def map_refine_chain(docs):\n",
    "\n",
    "    # map chain 생성\n",
    "    map_summary = hub.pull(\"teddynote/map-summary-prompt\")\n",
    "\n",
    "    map_chain = (\n",
    "        map_summary\n",
    "        | ChatOpenAI(\n",
    "            model_name=\"gpt-4o-mini\",\n",
    "            temperature=0,\n",
    "        )\n",
    "        | StrOutputParser()\n",
    "    )\n",
    "\n",
    "    input_doc = [{\"documents\": doc.page_content, \"language\": \"Korean\"} for doc in docs]\n",
    "\n",
    "    # 첫 번째 프롬프트, ChatOpenAI, 문자열 출력 파서를 연결하여 체인을 생성합니다.\n",
    "    doc_summaries = map_chain.batch(input_doc)\n",
    "\n",
    "    refine_prompt = hub.pull(\"teddynote/refine-prompt\")\n",
    "\n",
    "    refine_llm = ChatOpenAI(\n",
    "        model_name=\"gpt-4o-mini\",\n",
    "        temperature=0,\n",
    "        callbacks=[StreamingCallback()],\n",
    "        streaming=True,\n",
    "    )\n",
    "\n",
    "    refine_chain = refine_prompt | refine_llm | StrOutputParser()\n",
    "\n",
    "    previous_summary = doc_summaries[0]\n",
    "\n",
    "    for current_summary in doc_summaries[1:]:\n",
    "\n",
    "        previous_summary = refine_chain.invoke(\n",
    "            {\n",
    "                \"previous_summary\": previous_summary,\n",
    "                \"current_summary\": current_summary,\n",
    "                \"language\": \"Korean\",\n",
    "            }\n",
    "        )\n",
    "        print(\"\\n\\n-----------------\\n\\n\")\n",
    "\n",
    "    return previous_summary"
   ]
  },
  {
   "cell_type": "code",
   "execution_count": 27,
   "id": "265fc54d",
   "metadata": {},
   "outputs": [
    {
     "name": "stdout",
     "output_type": "stream",
     "text": [
      "- 미국 바이든 대통령이 안전하고 신뢰할 수 있는 AI 개발과 사용을 위한 행정명령을 발표하였다.\n",
      "- 이 행정명령은 AI의 안전과 보안 기준, 개인정보 보호, 형평성과 시민권 향상, 소비자 보호, 노동자 지원, 혁신과 경쟁 촉진, 국제 협력을 포함한다.\n",
      "- AI 시스템 개발 기업은 안전 테스트 결과와 시스템 정보를 미국 정부와 공유해야 하며, AI의 책임 있는 사용을 위한 법적 지침이 마련된다.\n",
      "- 소비자 보호와 근로자 지원을 위해 의료 분야에서의 AI 사용 촉진 및 교육 도구 개발이 강조된다.\n",
      "- 국가 AI 연구자원(NAIRR)을 통해 AI 연구를 촉진하고, 외국인 전문가들이 미국에서 공부하고 취업할 수 있도록 지원하는 방안도 포함된다.\n",
      "- 또한, G7은 '히로시마 AI 프로세스'를 통해 AI 기업을 위한 국제 행동강령에 합의하였으며, 이는 AI 시스템의 위험 식별과 완화를 위한 자발적인 채택을 권장하고, AI 수명주기 전반에 걸친 위험 평가와 투명성, 책임성을 강조한다. \n",
      "- G7은 기술 발전에 대응하기 위해 이해관계자 협의를 통해 행동강령을 개정할 계획이며, 사회적 위험 완화와 개인정보 보호를 위한 적절한 장치 구현을 우선시하고 있다.\n",
      "\n",
      "-----------------\n",
      "\n",
      "\n",
      "- 미국 바이든 대통령이 안전하고 신뢰할 수 있는 AI 개발과 사용을 위한 행정명령을 발표하였다.\n",
      "- 이 행정명령은 AI의 안전과 보안 기준, 개인정보 보호, 형평성과 시민권 향상, 소비자 보호, 노동자 지원, 혁신과 경쟁 촉진, 국제 협력을 포함한다.\n",
      "- AI 시스템 개발 기업은 안전 테스트 결과와 시스템 정보를 미국 정부와 공유해야 하며, AI의 책임 있는 사용을 위한 법적 지침이 마련된다.\n",
      "- 소비자 보호와 근로자 지원을 위해 의료 분야에서의 AI 사용 촉진 및 교육 도구 개발이 강조된다.\n",
      "- 국가 AI 연구자원(NAIRR)을 통해 AI 연구를 촉진하고, 외국인 전문가들이 미국에서 공부하고 취업할 수 있도록 지원하는 방안도 포함된다.\n",
      "- G7은 '히로시마 AI 프로세스'를 통해 AI 기업을 위한 국제 행동강령에 합의하였으며, 이는 AI 시스템의 위험 식별과 완화를 위한 자발적인 채택을 권장하고, AI 수명주기 전반에 걸친 위험 평가와 투명성, 책임성을 강조한다.\n",
      "- G7은 기술 발전에 대응하기 위해 이해관계자 협의를 통해 행동강령을 개정할 계획이며, 사회적 위험 완화와 개인정보 보호를 위한 적절한 장치 구현을 우선시하고 있다.\n",
      "- 또한, 28개국이 영국 블레츨리 파크에서 열린 AI 안전성 정상회의에서 AI 안전 보장을 위한 블레츨리 선언을 발표하였다. 이 선언은 AI 시스템의 안전성을 보장하기 위해 모든 이해관계자의 협력이 중요하다고 강조하며, 특히 AI 개발 기업의 책임을 지적하였다.\n",
      "- 영국 총리는 AI 안전 연구소의 출범과 함께 첨단 AI 모델에 대한 안전성 시험 계획을 발표하였고, 각국 정부는 테스트 결과를 공유하고 공동 표준 개발에 노력하기로 합의하였다.\n",
      "- 참가국들은 AI의 위험과 가능성에 대한 과학적 평가를 위한 보고서 작성을 합의하였으며, 한국은 영국과 AI 미니 정상회의를 공동 개최할 예정이다.\n",
      "\n",
      "-----------------\n",
      "\n",
      "\n",
      "- 미국 바이든 대통령이 안전하고 신뢰할 수 있는 AI 개발과 사용을 위한 행정명령을 발표하였다.\n",
      "- 이 행정명령은 AI의 안전과 보안 기준, 개인정보 보호, 형평성과 시민권 향상, 소비자 보호, 노동자 지원, 혁신과 경쟁 촉진, 국제 협력을 포함한다.\n",
      "- AI 시스템 개발 기업은 안전 테스트 결과와 시스템 정보를 미국 정부와 공유해야 하며, AI의 책임 있는 사용을 위한 법적 지침이 마련된다.\n",
      "- 소비자 보호와 근로자 지원을 위해 의료 분야에서의 AI 사용 촉진 및 교육 도구 개발이 강조된다.\n",
      "- 국가 AI 연구자원(NAIRR)을 통해 AI 연구를 촉진하고, 외국인 전문가들이 미국에서 공부하고 취업할 수 있도록 지원하는 방안도 포함된다.\n",
      "- G7은 '히로시마 AI 프로세스'를 통해 AI 기업을 위한 국제 행동강령에 합의하였으며, 이는 AI 시스템의 위험 식별과 완화를 위한 자발적인 채택을 권장하고, AI 수명주기 전반에 걸친 위험 평가와 투명성, 책임성을 강조한다.\n",
      "- G7은 기술 발전에 대응하기 위해 이해관계자 협의를 통해 행동강령을 개정할 계획이며, 사회적 위험 완화와 개인정보 보호를 위한 적절한 장치 구현을 우선시하고 있다.\n",
      "- 또한, 28개국이 영국 블레츨리 파크에서 열린 AI 안전성 정상회의에서 AI 안전 보장을 위한 블레츨리 선언을 발표하였다. 이 선언은 AI 시스템의 안전성을 보장하기 위해 모든 이해관계자의 협력이 중요하다고 강조하며, 특히 AI 개발 기업의 책임을 지적하였다.\n",
      "- 영국 총리는 AI 안전 연구소의 출범과 함께 첨단 AI 모델에 대한 안전성 시험 계획을 발표하였고, 각국 정부는 테스트 결과를 공유하고 공동 표준 개발에 노력하기로 합의하였다.\n",
      "- 참가국들은 AI의 위험과 가능성에 대한 과학적 평가를 위한 보고서 작성을 합의하였으며, 한국은 영국과 AI 미니 정상회의를 공동 개최할 예정이다.\n",
      "- 한편, 미국 캘리포니아 북부지방법원은 예술가들이 미드저니, 스태빌리티 AI, 디비언트아트를 상대로 제기한 저작권 침해 소송을 기각하였다. 법원은 고소장에 제시된 작품들이 저작권청에 등록되지 않았고, AI로 생성된 이미지와 특정 작품 간의 유사성을 입증하기 어렵다고 판단했다. 판사는 원고 측에 고소장을 수정하고 저작권이 침해된 특정 이미지를 중심으로 소송 범위를 줄여 다시 제기할 것을 요청했다. 그러나 사라 앤더슨이 저작권을 보유한 16개 작품에 대한 스태빌리티 AI의 저작권 침해 소송은 계속 진행된다.\n",
      "\n",
      "-----------------\n",
      "\n",
      "\n",
      "- 미국 바이든 대통령이 안전하고 신뢰할 수 있는 AI 개발과 사용을 위한 행정명령을 발표하였다.\n",
      "- 이 행정명령은 AI의 안전과 보안 기준, 개인정보 보호, 형평성과 시민권 향상, 소비자 보호, 노동자 지원, 혁신과 경쟁 촉진, 국제 협력을 포함한다.\n",
      "- AI 시스템 개발 기업은 안전 테스트 결과와 시스템 정보를 미국 정부와 공유해야 하며, AI의 책임 있는 사용을 위한 법적 지침이 마련된다.\n",
      "- 소비자 보호와 근로자 지원을 위해 의료 분야에서의 AI 사용 촉진 및 교육 도구 개발이 강조된다.\n",
      "- 국가 AI 연구자원(NAIRR)을 통해 AI 연구를 촉진하고, 외국인 전문가들이 미국에서 공부하고 취업할 수 있도록 지원하는 방안도 포함된다.\n",
      "- G7은 '히로시마 AI 프로세스'를 통해 AI 기업을 위한 국제 행동강령에 합의하였으며, 이는 AI 시스템의 위험 식별과 완화를 위한 자발적인 채택을 권장하고, AI 수명주기 전반에 걸친 위험 평가와 투명성, 책임성을 강조한다.\n",
      "- G7은 기술 발전에 대응하기 위해 이해관계자 협의를 통해 행동강령을 개정할 계획이며, 사회적 위험 완화와 개인정보 보호를 위한 적절한 장치 구현을 우선시하고 있다.\n",
      "- 또한, 28개국이 영국 블레츨리 파크에서 열린 AI 안전성 정상회의에서 AI 안전 보장을 위한 블레츨리 선언을 발표하였다. 이 선언은 AI 시스템의 안전성을 보장하기 위해 모든 이해관계자의 협력이 중요하다고 강조하며, 특히 AI 개발 기업의 책임을 지적하였다.\n",
      "- 영국 총리는 AI 안전 연구소의 출범과 함께 첨단 AI 모델에 대한 안전성 시험 계획을 발표하였고, 각국 정부는 테스트 결과를 공유하고 공동 표준 개발에 노력하기로 합의하였다.\n",
      "- 참가국들은 AI의 위험과 가능성에 대한 과학적 평가를 위한 보고서 작성을 합의하였으며, 한국은 영국과 AI 미니 정상회의를 공동 개최할 예정이다.\n",
      "- 한편, 미국 캘리포니아 북부지방법원은 예술가들이 미드저니, 스태빌리티 AI, 디비언트아트를 상대로 제기한 저작권 침해 소송을 기각하였다. 법원은 고소장에 제시된 작품들이 저작권청에 등록되지 않았고, AI로 생성된 이미지와 특정 작품 간의 유사성을 입증하기 어렵다고 판단했다. 판사는 원고 측에 고소장을 수정하고 저작권이 침해된 특정 이미지를 중심으로 소송 범위를 줄여 다시 제기할 것을 요청했다. 그러나 사라 앤더슨이 저작권을 보유한 16개 작품에 대한 스태빌리티 AI의 저작권 침해 소송은 계속 진행된다.\n",
      "- 미국 연방거래위원회(FTC)는 생성 AI가 소비자와 창작자에게 미칠 수 있는 피해와 빅테크의 시장 지배력 강화에 대한 우려를 표명했다. FTC는 생성 AI의 사용으로 인해 개인정보 침해, 차별, 사기 범죄 등의 위험이 증가할 수 있다고 경고하며, 저작권법과 관련하여 생성 AI가 창작자의 경쟁력을 해치고 소비자가 AI가 만든 작품을 오해할 가능성이 있다고 지적했다. FTC는 일부 빅테크가 자원을 활용해 시장 지배력을 강화할 수 있다는 우려를 나타내며, AI 관련 불법 행위에 대한 법적 조치를 취하고 있다. FTC는 생성 AI의 발전이 여러 산업에 변화를 가져올 수 있지만, 현행법에 따라 모든 권한을 활용해 소비자를 보호하고 공정한 경쟁을 유지하겠다고 강조했다.\n",
      "\n",
      "-----------------\n",
      "\n",
      "\n"
     ]
    }
   ],
   "source": [
    "refined_summary = map_refine_chain.invoke(docs)"
   ]
  },
  {
   "cell_type": "markdown",
   "id": "dd0e2068",
   "metadata": {},
   "source": [
    "## Chain of Density\n",
    "\n",
    "- 논문: https://arxiv.org/pdf/2309.04269\n",
    "\n",
    "\"Chain of Density\" (CoD) 프롬프트는 GPT-4를 사용한 요약 생성을 개선하기 위해 개발된 기법입니다. \n",
    "\n",
    "이 방법은 초기에 개체가 적은 요약을 생성한 후, 길이를 늘리지 않으면서 누락된 중요 개체들을 반복적으로 통합하는 과정을 거칩니다. 연구 결과, CoD로 생성된 요약은 일반 프롬프트보다 더 추상적이고 정보 융합이 뛰어나며, 인간이 작성한 요약과 비슷한 밀도를 가진 것으로 나타났습니다.\n",
    "\n",
    "1. 점진적 개선: CoD는 초기에 개체가 적은 간단한 요약을 생성한 후, 단계적으로 중요한 개체들을 추가하며 요약을 개선합니다. 이 과정에서 요약의 길이는 유지되면서 정보 밀도가 증가하여 읽기 쉬우면서도 정보량이 풍부한 요약이 만들어집니다.\n",
    "\n",
    "2. 정보 밀도와 가독성의 균형: CoD 방식은 요약의 정보 밀도를 조절하여 정보성과 가독성 사이의 최적 균형점을 찾습니다. 연구 결과에 따르면, 사람들은 일반적인 GPT-4 요약보다 더 밀도 있지만 사람이 작성한 요약만큼 밀도가 높지 않은 CoD 요약을 선호하는 것으로 나타났습니다.\n",
    "\n",
    "3. 추상화와 정보 융합 개선: CoD로 생성된 요약은 더 추상적이고 정보 융합이 뛰어나며, 원문의 앞부분에 치우치는 경향(lead bias)이 덜합니다. 이는 요약의 전반적인 품질과 가독성을 향상시키는 데 기여합니다."
   ]
  },
  {
   "cell_type": "markdown",
   "id": "85d15ad3",
   "metadata": {},
   "source": [
    "[Chain of Density Prompt](https://smith.langchain.com/prompts/chain-of-density-prompt/4582aae0?organizationId=8c9eeb3c-2665-5405-bc50-0767fdf4ca8f)"
   ]
  },
  {
   "cell_type": "markdown",
   "id": "36d2da33",
   "metadata": {},
   "source": [
    "**입력 파라미터 설명**\n",
    "\n",
    "- `content_category`: 콘텐츠 정류(예: 기사, 동영상 녹취록, 블로그 게시물, 연구 논문). 기본값: Article\n",
    "\n",
    "- `content`: 요약할 콘텐츠\n",
    "\n",
    "- `entity_range`: 콘텐츠에서 선택하여 요약에 추가할 엔티티의 수의 범위. 기본값은 `1-3`\n",
    "\n",
    "- `max_words`: 1번 요약시, 요약에 포함할 최대 단어. 기본값은 **80** 입니다.\n",
    "\n",
    "- `iterations`: 엔티티 고밀도화 라운드 수. 총 요약은 **반복 횟수+1** 입니다. 80단어의 경우 3회 반복이 이상적입니다. 요약이 더 길면 4~5회, 그리고 `entity_range` 를 예를 들어 1~4로 변경하는 것도 도움이 될 수 있습니다. 기본값: 3."
   ]
  },
  {
   "cell_type": "markdown",
   "id": "a9b267d4",
   "metadata": {},
   "source": [
    "이 코드는 Chain of Density 프롬프트를 사용하여 텍스트 요약을 생성하는 체인을 구성합니다.\n",
    "\n",
    "첫 번째 체인은 중간 결과를 보여주고, 두 번째 체인은 최종 요약만을 추출합니다."
   ]
  },
  {
   "cell_type": "code",
   "execution_count": 28,
   "id": "1737020b",
   "metadata": {},
   "outputs": [],
   "source": [
    "import textwrap\n",
    "from langchain import hub\n",
    "from langchain_openai import ChatOpenAI\n",
    "from langchain_core.output_parsers import SimpleJsonOutputParser\n",
    "\n",
    "# {content}를 제외한 모든 입력에 대한 기본값 지정\n",
    "cod_chain_inputs = {\n",
    "    \"content\": lambda d: d.get(\"content\"),\n",
    "    \"content_category\": lambda d: d.get(\"content_category\", \"Article\"),\n",
    "    \"entity_range\": lambda d: d.get(\"entity_range\", \"1-3\"),\n",
    "    \"max_words\": lambda d: int(d.get(\"max_words\", 80)),\n",
    "    \"iterations\": lambda d: int(d.get(\"iterations\", 5)),\n",
    "}\n",
    "\n",
    "# Chain of Density 프롬프트 다운로드\n",
    "cod_prompt = hub.pull(\"teddynote/chain-of-density-prompt\")\n",
    "\n",
    "# Chain of Density 체인 생성\n",
    "cod_chain = (\n",
    "    cod_chain_inputs\n",
    "    | cod_prompt\n",
    "    | ChatOpenAI(temperature=0, model=\"gpt-4o-mini\")\n",
    "    | SimpleJsonOutputParser()\n",
    ")\n",
    "\n",
    "# 두 번째 체인 생성, 최종 요약만 추출 (스트리밍 불가능, 최종 결과가 필요함)\n",
    "cod_final_summary_chain = cod_chain | (\n",
    "    lambda output: output[-1].get(\n",
    "        \"denser_summary\", '오류: 마지막 딕셔너리에 \"denser_summary\" 키가 없습니다'\n",
    "    )\n",
    ")"
   ]
  },
  {
   "cell_type": "markdown",
   "id": "e6643d8b",
   "metadata": {},
   "source": [
    "요약할 데이터를 확인합니다."
   ]
  },
  {
   "cell_type": "code",
   "execution_count": 42,
   "id": "c81e08f6",
   "metadata": {},
   "outputs": [
    {
     "name": "stdout",
     "output_type": "stream",
     "text": [
      "SPRi AI Brief |  \n",
      "2023-12 월호\n",
      "2G7, 히로시마 AI 프로세스를 통해 AI 기업 대상 국제 행동강령에 합의\n",
      "nG7이 첨단 AI 시스템을 개발하는 기업을 대상으로 AI 위험 식별과 완화를 위해 자발적인 \n",
      "채택을 권고하는 AI 국제 행동강령을 마련\n",
      "n행동강령은 AI 수명주기 전반에 걸친 위험 평가와 완화, 투명성과 책임성의 보장, 정보공유와 \n",
      "이해관계자 간 협력, 보안 통제, 콘텐츠 인증과 출처 확인 등의 조치를 요구KEY Contents\n",
      "£G7, 첨단 AI 시스템의 위험 관리를 위한 국제 행동강령 마련\n",
      "n주요 7개국(G7)* 은 2023 년 10월 30일 ‘히로시마 AI 프로세스 ’를 통해 AI 기업 대상의 AI 국제 \n",
      "행동강령 (International Code of Conduct for Advanced AI Systems) 에 합의\n",
      "∙G7은 2023 년 5월 일본 히로시마에서 개최된 정상회의에서 생성 AI에 관한 국제규범 마련과 \n",
      "정보공유를 위해 ‘히로시마 AI 프로세스 ’를 출범**\n",
      "∙기업의 자발적 채택을 위해 마련된 이번 행동강령은 기반모델과 생성 AI를 포함한 첨단 AI 시스템의 \n",
      "위험 식별과 완화에 필요한 조치를 포함\n",
      "* 주요 7개국(G7)은 미국, 일본, 독일, 영국, 프랑스 , 이탈리아 , 캐나다를 의미\n",
      "** 5월 정상회의에는 한국, 호주, 베트남 등을 포함한 8개국이 초청을 받았으나 , AI 국제 행동강령에는 우선 G7 국가만 포함하여 채택\n",
      "nG7은 행동강령을 통해 아래의 조치를 제시했으며 , 빠르게 발전하는 기술에 대응할 수 있도록 \n",
      "이해관계자 협의를 통해 필요에 따라 개정할 예정\n",
      "∙첨단 AI 시스템의 개발 과정에서 AI 수명주기 전반에 걸쳐 위험을 평가 및 완화하는 조치를 채택하고 , \n",
      "첨단 AI 시스템의 출시와 배포 이후 취약점과 오용 사고, 오용 유형을 파악해 완화\n",
      "∙첨단 AI 시스템의 성능과 한계를 공개하고 적절하거나 부적절한 사용영역을 알리는 방법으로 투명성을 \n",
      "보장하고 책임성을 강화\n",
      "∙산업계 , 정부, 시민사회 , 학계를 포함해 첨단 AI 시스템을 개발하는 조직 간 정보공유와 사고 발생 시 \n",
      "신고를 위해 협력하고 , 위험 기반 접근방식을 토대로 개인정보보호 정책과 위험 완화 조치를 포함하는 \n",
      "AI 거버넌스와 위험 관리 정책을 마련\n",
      "∙AI 수명주기 전반에 걸쳐 물리보안 , 사이버보안 , 내부자 위협 보안을 포함한 강력한 보안 통제 구현\n",
      "∙사용자가 AI 생성 콘텐츠를 식별할 수 있도록 워터마크를 비롯하여 기술적으로 가능한 기법으로 \n",
      "신뢰할 수 있는 콘텐츠 인증과 출처 확인 메커니즘을 개발 및 구축 \n",
      "∙사회적 위험과 안전·보안 문제를 완화하는 연구와 효과적인 완화 대책에 우선 투자하고 , 기후 위기 \n",
      "대응, 세계 보건과 교육 등 세계적 난제 해결을 위한 첨단 AI 시스템을 우선 개발\n",
      "∙국제 기술 표준의 개발 및 채택을 가속화하고 , 개인정보와 지식재산권 보호를 위해 데이터 입력과 수집 \n",
      "시 적절한 보호 장치 구현\n",
      "☞ 출처: G7, Hiroshima Process International Code of Conduct for Advanced AI Systems, 2023.10.30.\n"
     ]
    }
   ],
   "source": [
    "content = docs[1].page_content\n",
    "print(content)"
   ]
  },
  {
   "cell_type": "markdown",
   "id": "7566ef21",
   "metadata": {},
   "source": [
    "부분 JSON 스트리밍하기. 스트리밍된 각 청크는 새로운 접미사가 추가된 동일한 JSON 딕트 목록입니다. \n",
    "\n",
    "따라서 단순히 연결하는 것이 아니라 다음 청크가 이전 청크를 덮어쓰고 반복적으로 스트리밍을 추가하는 것처럼 보이게 하려면 `\\r` 캐리지 리턴 인쇄가 필요합니다."
   ]
  },
  {
   "cell_type": "code",
   "execution_count": 43,
   "id": "6228b665",
   "metadata": {},
   "outputs": [
    {
     "name": "stdout",
     "output_type": "stream",
     "text": [
      "[{'missing_entities': 'AI 국제 행동강령;히로시마 AI 프로세스;G7 국가', 'denser_summary': '2023년 10월 30일, G7 국가들은 히로시마 AI 프로세스를 통해 AI 기업을 위한 AI 국제 행동강령에 합의했다. 이 행동강령은 AI 위험 식별과 완화를 위한 자발적 채택을 권장하며, AI 수명주기 전반의 위험 평가, 투명성, 책임성, 정보 공유 및 보안 통제를 요구한다.'}, {'missing_entities': '위험 평가;정보 공유;AI 거버넌스', 'denser_summary': '2023년 10월 30일, G7 국가들은 히로시마 AI 프로세스를 통해 AI 기업을 위한 AI 국제 행동강령에 합의했다. 이 행동강령은 AI 위험 식별과 완화를 위한 자발적 채택을 권장하며, 위험 평가, 정보 공유, AI 거버넌스 및 보안 통제를 요구한다.'}, {'missing_entities': 'AI 수명주기;투명성;신뢰할 수 있는 콘텐츠', 'denser_summary': '2023년 10월 30일, G7 국가들은 히로시마 AI 프로세스를 통해 AI 기업을 위한 AI 국제 행동강령에 합의했다. 이 행동강령은 AI 수명주기 전반의 위험 평가, 투명성 보장, 신뢰할 수 있는 콘텐츠 인증 및 정보 공유를 요구한다.'}, {'missing_entities': '강력한 보안 통제;사회적 위험;기후 위기 대응', 'denser_summary': '2023년 10월 30일, G7 국가들은 히로시마 AI 프로세스를 통해 AI 기업을 위한 AI 국제 행동강령에 합의했다. 이 행동강령은 AI 수명주기 전반의 위험 평가, 강력한 보안 통제, 사회적 위험 완화 및 기후 위기 대응을 요구한다.'}, {'missing_entities': 'AI 생성 콘텐츠;위험 기반 접근;국제 기술 표준', 'denser_summary': '2023년 10월 30일, G7 국가들은 히로시마 AI 프로세스를 통해 AI 기업을 위한 AI 국제 행동강령에 합의했다. 이 행동강령은 AI 생성 콘텐츠 식별, 위험 기반 접근, 국제 기술 표준 개발 및 AI 수명주기 전반의 위험 평가를 요구한다.'}]\n",
      "\n",
      "### CoD Summary 1/5, 추가된 엔티티(entity): AI 국제 행동강령, 히로시마 AI 프로세스, G7 국가\n",
      "\n",
      "2023년 10월 30일, G7 국가들은 히로시마 AI 프로세스를 통해 AI 기업을 위한 AI 국제 행동강령에 합의했다. 이 행동강령은 AI\n",
      "위험 식별과 완화를 위한 자발적 채택을 권장하며, AI 수명주기 전반의 위험 평가, 투명성, 책임성, 정보 공유 및 보안 통제를 요구한다.\n",
      "\n",
      "### CoD Summary 2/5, 추가된 엔티티(entity): 위험 평가, 정보 공유, AI 거버넌스\n",
      "\n",
      "2023년 10월 30일, G7 국가들은 히로시마 AI 프로세스를 통해 AI 기업을 위한 AI 국제 행동강령에 합의했다. 이 행동강령은 AI\n",
      "위험 식별과 완화를 위한 자발적 채택을 권장하며, 위험 평가, 정보 공유, AI 거버넌스 및 보안 통제를 요구한다.\n",
      "\n",
      "### CoD Summary 3/5, 추가된 엔티티(entity): AI 수명주기, 투명성, 신뢰할 수 있는 콘텐츠\n",
      "\n",
      "2023년 10월 30일, G7 국가들은 히로시마 AI 프로세스를 통해 AI 기업을 위한 AI 국제 행동강령에 합의했다. 이 행동강령은 AI\n",
      "수명주기 전반의 위험 평가, 투명성 보장, 신뢰할 수 있는 콘텐츠 인증 및 정보 공유를 요구한다.\n",
      "\n",
      "### CoD Summary 4/5, 추가된 엔티티(entity): 강력한 보안 통제, 사회적 위험, 기후 위기 대응\n",
      "\n",
      "2023년 10월 30일, G7 국가들은 히로시마 AI 프로세스를 통해 AI 기업을 위한 AI 국제 행동강령에 합의했다. 이 행동강령은 AI\n",
      "수명주기 전반의 위험 평가, 강력한 보안 통제, 사회적 위험 완화 및 기후 위기 대응을 요구한다.\n",
      "\n",
      "### CoD Summary 5/5, 추가된 엔티티(entity): AI 생성 콘텐츠, 위험 기반 접근, 국제 기술 표준\n",
      "\n",
      "2023년 10월 30일, G7 국가들은 히로시마 AI 프로세스를 통해 AI 기업을 위한 AI 국제 행동강령에 합의했다. 이 행동강령은 AI\n",
      "생성 콘텐츠 식별, 위험 기반 접근, 국제 기술 표준 개발 및 AI 수명주기 전반의 위험 평가를 요구한다.\n",
      "\n",
      "\n",
      "============== [최종 요약] =================\n",
      "\n",
      "2023년 10월 30일, G7 국가들은 히로시마 AI 프로세스를 통해 AI 기업을 위한 AI 국제 행동강령에 합의했다. 이 행동강령은 AI 생성 콘텐츠 식별, 위험 기반 접근, 국제 기술 표준 개발 및 AI 수명주기 전반의 위험 평가를 요구한다.\n"
     ]
    }
   ],
   "source": [
    "# 결과를 저장할 빈 리스트 초기화\n",
    "results: list[dict[str, str]] = []\n",
    "\n",
    "# cod_chain을 스트리밍 모드로 실행하고 부분적인 JSON 결과를 처리\n",
    "for partial_json in cod_chain.stream(\n",
    "    {\"content\": content, \"content_category\": \"Article\"}\n",
    "):\n",
    "    # 각 반복마다 results를 업데이트\n",
    "    results = partial_json\n",
    "\n",
    "    # 현재 결과를 같은 줄에 출력 (캐리지 리턴을 사용하여 이전 출력을 덮어씀)\n",
    "    print(results, end=\"\\r\", flush=True)\n",
    "\n",
    "# 총 요약 수 계산\n",
    "total_summaries = len(results)\n",
    "print(\"\\n\")\n",
    "\n",
    "# 각 요약을 순회하며 처리\n",
    "i = 1\n",
    "for cod in results:\n",
    "    # 누락된 엔티티들을 추출하고 포맷팅\n",
    "    added_entities = \", \".join(\n",
    "        [\n",
    "            ent.strip()\n",
    "            for ent in cod.get(\n",
    "                \"missing_entities\", 'ERR: \"missing_entiies\" key not found'\n",
    "            ).split(\";\")\n",
    "        ]\n",
    "    )\n",
    "    # 더 밀도 있는 요약 추출\n",
    "    summary = cod.get(\"denser_summary\", 'ERR: missing key \"denser_summary\"')\n",
    "\n",
    "    # 요약 정보 출력 (번호, 총 개수, 추가된 엔티티)\n",
    "    print(\n",
    "        f\"### CoD Summary {i}/{total_summaries}, 추가된 엔티티(entity): {added_entities}\"\n",
    "        + \"\\n\"\n",
    "    )\n",
    "    # 요약 내용을 80자 너비로 줄바꿈하여 출력\n",
    "    print(textwrap.fill(summary, width=80) + \"\\n\")\n",
    "    i += 1\n",
    "\n",
    "print(\"\\n============== [최종 요약] =================\\n\")\n",
    "print(summary)"
   ]
  },
  {
   "cell_type": "code",
   "execution_count": 45,
   "id": "9ba91c03",
   "metadata": {},
   "outputs": [
    {
     "name": "stdout",
     "output_type": "stream",
     "text": [
      "2023년 10월 30일, G7 국가들은 히로시마 AI 프로세스를 통해 AI 기업을 위한 AI 국제 행동강령에 합의했다. 이 행동강령은 AI 생성 콘텐츠 식별, 위험 기반 접근, 국제 기술 표준 개발 및 AI 수명주기 전반의 위험 평가를 요구한다.\n"
     ]
    }
   ],
   "source": [
    "print(summary)"
   ]
  },
  {
   "cell_type": "markdown",
   "id": "09ee272d",
   "metadata": {},
   "source": [
    "## Clustering-Map-Refine\n",
    "\n",
    "이 튜토리얼의 원 저자인 gkamradt 은 긴 문서의 요약에 대해서 흥미로운 제안을 하였습니다.\n",
    "\n",
    "배경은 다음과 같습니다.\n",
    "\n",
    "1. map-reduce 나 map-refine 방식은 모두 시간이 오래 걸리고, 비용이 많이 듬.\n",
    "2. 따라서, 문서를 몇 개(N 개)의 클러스터로 나눈 뒤, 가장 중심축에서 가까운 문서를 클러스터의 대표 문서로 인지하고, 이를 map-reduce(혹은 map-refine) 방식으로 요약하는 방식을 제안.\n",
    "\n",
    "실제로 비용도 합리적으로, 결과도 만족스럽기 때문에 원 저자의 튜토리얼의 코드를 수정하여 공유합니다.\n",
    "\n",
    "- [원 저자 및 출처 - gkamradt](https://github.com/gkamradt/langchain-tutorials/blob/main/data_generation/5%20Levels%20Of%20Summarization%20-%20Novice%20To%20Expert.ipynb)"
   ]
  },
  {
   "cell_type": "code",
   "execution_count": 51,
   "id": "feb12b9e",
   "metadata": {},
   "outputs": [
    {
     "data": {
      "text/plain": [
       "23"
      ]
     },
     "execution_count": 51,
     "metadata": {},
     "output_type": "execute_result"
    }
   ],
   "source": [
    "from langchain_community.document_loaders import PyMuPDFLoader\n",
    "\n",
    "loader = PyMuPDFLoader(\"data/SPRI_AI_Brief_2023년12월호_F.pdf\")\n",
    "docs = loader.load()\n",
    "len(docs)"
   ]
  },
  {
   "cell_type": "markdown",
   "id": "f746a903",
   "metadata": {},
   "source": [
    "아래의 코드를 실행하면 하나의 문서로 텍스트를 합칩니다. 합치는 목적은 page 별로 구분하지 않기 위해서입니다.\n",
    "\n",
    "합쳐진 문자수는 약 28K 입니다."
   ]
  },
  {
   "cell_type": "code",
   "execution_count": 53,
   "id": "ca715d03",
   "metadata": {},
   "outputs": [
    {
     "data": {
      "text/plain": [
       "28086"
      ]
     },
     "execution_count": 53,
     "metadata": {},
     "output_type": "execute_result"
    }
   ],
   "source": [
    "# 하나의 Text 로 모든 문서를 연결합니다.\n",
    "texts = \"\\n\\n\".join([doc.page_content for doc in docs])\n",
    "len(texts)"
   ]
  },
  {
   "cell_type": "markdown",
   "id": "a36a3162",
   "metadata": {},
   "source": [
    "`RecursiveCharacterTextSplitter` 를 사용하여 하나의 Text 를 여러 문서로 나눕니다."
   ]
  },
  {
   "cell_type": "code",
   "execution_count": 63,
   "id": "a8a11656",
   "metadata": {},
   "outputs": [],
   "source": [
    "from langchain_text_splitters import RecursiveCharacterTextSplitter\n",
    "\n",
    "text_splitter = RecursiveCharacterTextSplitter(chunk_size=500, chunk_overlap=100)\n",
    "split_docs = text_splitter.split_text(texts)"
   ]
  },
  {
   "cell_type": "markdown",
   "id": "c9e8fef7",
   "metadata": {},
   "source": [
    "나누어진 문서의 수를 확인합니다. 여기서는 79개의 문서로 나누었습니다."
   ]
  },
  {
   "cell_type": "code",
   "execution_count": 64,
   "id": "d7697377",
   "metadata": {},
   "outputs": [
    {
     "data": {
      "text/plain": [
       "79"
      ]
     },
     "execution_count": 64,
     "metadata": {},
     "output_type": "execute_result"
    }
   ],
   "source": [
    "# 총 문서의 수 확인\n",
    "len(split_docs)"
   ]
  },
  {
   "cell_type": "markdown",
   "id": "517ddb9e",
   "metadata": {},
   "source": [
    "Upstage Embeddings 모델을 사용하여 문서를 임베딩합니다."
   ]
  },
  {
   "cell_type": "code",
   "execution_count": 70,
   "id": "84ee29a1",
   "metadata": {},
   "outputs": [],
   "source": [
    "from langchain_upstage import UpstageEmbeddings\n",
    "\n",
    "embeddings = UpstageEmbeddings(model=\"solar-embedding-1-large-passage\")\n",
    "\n",
    "vectors = embeddings.embed_documents(split_docs)"
   ]
  },
  {
   "cell_type": "markdown",
   "id": "287413d3",
   "metadata": {},
   "source": [
    "총 79개의 문서를 10개 클러스터로 나눕니다. 이때 `KMeans` 를 사용하여 클러스터링을 수행합니다."
   ]
  },
  {
   "cell_type": "code",
   "execution_count": 71,
   "id": "fa85e13b",
   "metadata": {},
   "outputs": [],
   "source": [
    "from sklearn.cluster import KMeans\n",
    "\n",
    "# 클러스터 수를 선택하면 문서의 콘텐츠에 따라 조정할 수 있습니다.\n",
    "num_clusters = 10\n",
    "\n",
    "# Perform K-means clustering\n",
    "kmeans = KMeans(n_clusters=num_clusters, random_state=123).fit(vectors)"
   ]
  },
  {
   "cell_type": "markdown",
   "id": "c193b358",
   "metadata": {},
   "source": [
    "라벨링 된 결과를 확인합니다."
   ]
  },
  {
   "cell_type": "code",
   "execution_count": 72,
   "id": "f2ce4aec",
   "metadata": {},
   "outputs": [
    {
     "data": {
      "text/plain": [
       "array([5, 3, 7, 6, 4, 4, 4, 5, 3, 8, 8, 8, 1, 1, 8, 1, 1, 1, 1, 1, 3, 3,\n",
       "       3, 3, 3, 3, 3, 3, 7, 7, 7, 7, 8, 8, 8, 8, 2, 2, 2, 2, 9, 9, 9, 3,\n",
       "       9, 9, 9, 6, 6, 6, 6, 5, 5, 5, 5, 0, 0, 0, 0, 4, 4, 4, 8, 8, 8, 8,\n",
       "       4, 8, 4, 9, 4, 4, 9, 6, 2, 5, 4, 4, 4], dtype=int32)"
      ]
     },
     "execution_count": 72,
     "metadata": {},
     "output_type": "execute_result"
    }
   ],
   "source": [
    "# 결과 확인\n",
    "kmeans.labels_"
   ]
  },
  {
   "cell_type": "code",
   "execution_count": 100,
   "id": "dc08c847",
   "metadata": {},
   "outputs": [
    {
     "data": {
      "image/png": "[encoded data removed]",
      "text/plain": [
       "<Figure size 1000x800 with 1 Axes>"
      ]
     },
     "metadata": {},
     "output_type": "display_data"
    }
   ],
   "source": [
    "from sklearn.manifold import TSNE\n",
    "import matplotlib.pyplot as plt\n",
    "import seaborn as sns\n",
    "\n",
    "# 경고 제거\n",
    "import warnings\n",
    "\n",
    "warnings.filterwarnings(\"ignore\")\n",
    "\n",
    "# t-SNE 수행 및 2차원으로 축소\n",
    "tsne = TSNE(n_components=2, random_state=42)\n",
    "reduced_data_tsne = tsne.fit_transform(np.array(vectors))\n",
    "\n",
    "# seaborn 스타일 설정\n",
    "sns.set_style(\"white\")\n",
    "\n",
    "# 축소된 데이터 플롯\n",
    "plt.figure(figsize=(10, 8))\n",
    "sns.scatterplot(\n",
    "    x=reduced_data_tsne[:, 0],\n",
    "    y=reduced_data_tsne[:, 1],\n",
    "    hue=kmeans.labels_,\n",
    "    palette=\"deep\",\n",
    "    s=100,\n",
    ")\n",
    "plt.xlabel(\"Dimension 1\", fontsize=12)\n",
    "plt.ylabel(\"Dimension 2\", fontsize=12)\n",
    "plt.title(\"Clustered Embeddings\", fontsize=16)\n",
    "plt.legend(title=\"Cluster\", title_fontsize=12)\n",
    "\n",
    "# 배경색 설정\n",
    "plt.gcf().patch.set_facecolor(\"white\")\n",
    "\n",
    "plt.tight_layout()\n",
    "plt.show()"
   ]
  },
  {
   "cell_type": "markdown",
   "id": "ce7ef9f9",
   "metadata": {},
   "source": [
    "그러면 각 cluster 의 중심점에 가장 가까운 임베딩을 찾아서 저장해야 합니다."
   ]
  },
  {
   "cell_type": "code",
   "execution_count": 87,
   "id": "189d15db",
   "metadata": {},
   "outputs": [],
   "source": [
    "import numpy as np\n",
    "\n",
    "# 가장 가까운 점들을 저장할 빈 리스트 생성\n",
    "closest_indices = []\n",
    "\n",
    "# 클러스터 수만큼 반복\n",
    "for i in range(num_clusters):\n",
    "\n",
    "    # 해당 클러스터 중심으로부터의 거리 목록 구하기\n",
    "    distances = np.linalg.norm(vectors - kmeans.cluster_centers_[i], axis=1)\n",
    "\n",
    "    # 가장 가까운 점의 인덱스 찾기 (argmin을 사용하여 최소 거리 찾기)\n",
    "    closest_index = np.argmin(distances)\n",
    "\n",
    "    # 해당 인덱스를 가장 가까운 인덱스 리스트에 추가\n",
    "    closest_indices.append(closest_index)"
   ]
  },
  {
   "cell_type": "markdown",
   "id": "8fb6933f",
   "metadata": {},
   "source": [
    "문서의 요약을 순서대로 진행하기 위하여 오름차순 정렬합니다."
   ]
  },
  {
   "cell_type": "code",
   "execution_count": 85,
   "id": "3b23e407",
   "metadata": {},
   "outputs": [
    {
     "data": {
      "text/plain": [
       "[4, 16, 24, 28, 34, 37, 41, 47, 51, 55]"
      ]
     },
     "execution_count": 85,
     "metadata": {},
     "output_type": "execute_result"
    }
   ],
   "source": [
    "# 문서의 요약을 순서대로 진행하기 위하여 오름차순 정렬\n",
    "selected_indices = sorted(closest_indices)\n",
    "selected_indices"
   ]
  },
  {
   "cell_type": "markdown",
   "id": "30262acd",
   "metadata": {},
   "source": [
    "10개의 선택된 문서를 출력합니다. 이 과정에서 `Document` 객체를 사용하여 문서를 생성합니다."
   ]
  },
  {
   "cell_type": "code",
   "execution_count": 84,
   "id": "13828899",
   "metadata": {},
   "outputs": [
    {
     "data": {
      "text/plain": [
       "[Document(page_content='▹ 빌 게이츠, AI 에이전트로 인한 컴퓨터 사용의 패러다임 변화 전망································ 13\\n   ▹ 유튜브, 2024년부터 AI 생성 콘텐츠 표시 의무화···························································· 14\\n 3. 기술/연구\\n   ▹ 영국 과학혁신기술부, AI 안전 연구소 설립 발표······························································ 15\\n   ▹ 구글 딥마인드, 범용 AI 모델의 기능과 동작에 대한 분류 체계 발표······························ 16\\n   ▹ 갈릴레오의 LLM 환각 지수 평가에서 GPT-4가 가장 우수 ··········································· 17\\n   \\n 4. 인력/교육'),\n",
       " Document(page_content='1. 정책/법제  \\n2. 기업/산업 \\n3. 기술/연구 \\n 4. 인력/교육\\n영국 AI 안전성 정상회의에 참가한 28개국, AI 위험에 공동 대응 선언\\nn 영국 블레츨리 파크에서 개최된 AI 안전성 정상회의에 참가한 28개국들이 AI 안전 보장을 \\n위한 협력 방안을 담은 블레츨리 선언을 발표\\nn 첨단 AI를 개발하는 국가와 기업들은 AI 시스템에 대한 안전 테스트 계획에 합의했으며, \\n영국의 AI 안전 연구소가 전 세계 국가와 협력해 테스트를 주도할 예정 \\nKEY Contents\\n£ AI 안전성 정상회의 참가국들, 블레츨리 선언 통해 AI 안전 보장을 위한 협력에 합의\\nn 2023년 11월 1~2일 영국 블레츨리 파크에서 열린 AI 안전성 정상회의(AI Safety Summit)에 \\n참가한 28개국 대표들이 AI 위험 관리를 위한 ‘블레츨리 선언’을 발표 \\n∙선언은 AI 안전 보장을 위해 국가, 국제기구, 기업, 시민사회, 학계를 포함한 모든 이해관계자의 협력이'),\n",
       " Document(page_content='1. 정책/법제  \\n2. 기업/산업 \\n3. 기술/연구 \\n 4. 인력/교육\\n미국 연방거래위원회, 저작권청에 소비자 보호와 경쟁 측면의 AI 의견서 제출\\nn 미국 FTC는 저작권청이 실시한 저작권과 AI 관련 질의공고에 대하여 소비자 보호와 경쟁 \\n측면의 의견을 제시\\nn FTC는 생성 AI로 인한 창작자와 소비자 피해의 가능성에 우려를 표시하는 한편, 일부 \\n빅테크가 막대한 재원을 활용해 시장 지배력을 더욱 강화할 수 있다는 우려를 제기\\nKEY Contents\\n£ FTC, 생성 AI로 인한 소비자와 창작자의 피해 및 빅테크의 시장 지배력 강화 우려\\nn 미국 연방거래위원회(FTC)가 2023년 10월 30일 저작권청(U.S. Copyright Office, USCO)이 \\n지난 9월 발표한 저작권과 AI 관련 질의공고(Notice of Inquiry, NOI)에 대한 의견서를 발표\\n∙저작권청은 생성 AI와 관련된 저작권법과 정책 이슈를 조사하고 있으며, 폭넓은 의견 수렴을 통해'),\n",
       " Document(page_content='SPRi AI Brief |  \\n2023-12월호\\n6\\nEU AI 법 3자 협상, 기반모델 규제 관련 견해차로 난항\\nn 유럽의회, EU 집행위원회, EU 이사회가 진행 중인 AI 법 최종협상에서 프랑스, 이탈리아, \\n독일이 기반모델에 대한 규제에 반대하며 협상이 난관에 봉착\\nn 프랑스, 이탈리아, 독일 3개국은 기반모델 개발기업에 대하여 자율적 행동강령을 도입하고 \\n준수를 의무화하는 방안을 제안\\nKEY Contents\\n£ AI 법 3자 협상, 이사회 일부 국가가 기반모델 규제에 반대하며 차질\\nn 유럽의회, EU 집행위원회, EU 이사회가 ‘AI 법(AI act)’에 대한 최종협상을 진행 중인 가운데, \\n일부 국가가 기반모델에 대한 규제에 반대하며 협상이 난관에 봉착  \\n∙10월 24일 열린 3자 협상 회의에서는 사회에 더 큰 영향을 미치는 강력한 AI 모델에 더 엄격한 규칙을 \\n적용하는 계층적 접근방식에 따라 기반 모델 규제에 대한 기본적인 합의에 도달'),\n",
       " Document(page_content='촉진하기로 약속했으며, 약속을 이행하기 위해 기금을 활용해 외부 연구집단의 AI 시스템 평가에 \\n자금을 지원할 계획\\n£ AI 안전 기금으로 AI 레드팀을 위한 모델 평가 기법 개발을 중점 지원할 계획\\nn 프런티어 모델 포럼은 AI 안전 기금을 통해 AI 레드팀 활동을 위한 새로운 모델 평가 기법의 개발을 \\n중점 지원할 예정\\n∙포럼에 따르면 AI 레드팀에 대한 자금 지원은 AI 모델의 안전과 보안 기준의 개선과 함께 AI 시스템 \\n위험 대응 방안에 관한 산업계와 정부, 시민사회의 통찰력 확보에 도움이 될 전망으로, 포럼은 향후 몇 \\n달 안에 기금 지원을 위한 제안 요청을 받을 계획\\nn 프런티어 모델 포럼은 출범 이후 업계 전반에 걸쳐 AI 레드팀 구성에 관한 모범사례 공유를 추진하는 \\n한편, 첨단 AI 모델의 취약점이나 잠재적으로 위험한 기능 및 위험 완화 관련 정보를 공유할 수 \\n있는 공개 절차도 개발 중'),\n",
       " Document(page_content='∙AI 모델 훈련에 사용되는 데이터셋의 불분명한 출처로 인해 데이터 투명성이 확보되지 않아 다양한 \\n법적·윤리적 문제가 발생\\n∙이에 연구진은 가장 널리 사용되는 2,000여 개의 미세조정 데이터셋을 감사 및 추적하여 데이터셋에 \\n원본 데이터소스에 대한 태그, 재라이선스(Relicensing) 상태, 작성자, 기타 데이터 속성을 지정하고 \\n이러한 정보에 접근할 수 있는 플랫폼을 출시\\n∙대화형 플랫폼 형태의 데이터 출처 탐색기를 통해 데이터셋의 라이선스 상태를 쉽게 파악할 수 있으며, \\n주요 데이터셋의 구성과 데이터 계보도 추적 가능\\nn 연구진은 오픈소스 데이터셋에 대한 광범위한 감사를 통해 데이터 투명성에 영향을 미치는 주요 \\n요인을 발견\\n∙깃허브(GitHub), 페이퍼위드코드(Papers with Code)와 같은 크라우드소싱 플랫폼에서 수집한 \\n데이터로 훈련된 오픈소스 LLM에서는 데이터 라이선스의 누락 비율이 72~83%에 달함'),\n",
       " Document(page_content='∙알리바바 클라우드는 통이치엔원 2.0이 2023년 4월 출시된 1.0 버전보다 복잡한 지침 이해, \\n광고문구 작성, 추론, 암기 등에서 성능이 향상되었다고 설명\\n∙통이치엔원 2.0은 언어 이해 테스트(MMLU), 수학(GSM8k), 질문 답변(ARC-C)과 같은 벤치마크 \\n테스트에서 라마(Llama-2-70B)와 GPT-3.5를 비롯한 주요 AI 모델을 능가 \\n∙통이치엔원 2.0은 알리바바 클라우드의 웹사이트와 모바일 앱을 통해 대중에 제공되며 개발자는 \\nAPI를 통해 사용 가능 \\nn 알리바바 클라우드는 여러 산업 영역에서 생성 AI를 활용해 사업 성과를 개선할 수 있도록 지원\\n하는 산업별 모델도 출시\\n∙산업 영역은 고객지원, 법률 상담, 의료, 금융, 문서관리, 오디오와 동영상 관리, 코드 개발, 캐릭터 \\n제작을 포함\\nn 알리바바 클라우드는 급증하는 생성 AI 수요에 대응해 모델 개발과 애플리케이션 구축 절차를'),\n",
       " Document(page_content='1. 정책/법제  \\n2. 기업/산업 \\n3. 기술/연구 \\n 4. 인력/교육\\n구글, 앤스로픽에 20억 달러 투자로 생성 AI 협력 강화 \\nn 구글이 앤스로픽에 최대 20억 달러 투자에 합의하고 5억 달러를 우선 투자했으며, 앤스로픽은 \\n구글과 클라우드 서비스 사용 계약도 체결\\nn 3대 클라우드 사업자인 구글, 마이크로소프트, 아마존은 차세대 AI 모델의 대표 기업인 \\n앤스로픽 및 오픈AI와 협력을 확대하는 추세\\nKEY Contents\\n£ 구글, 앤스로픽에 최대 20억 달러 투자 합의 및 클라우드 서비스 제공\\nn 구글이 2023년 10월 27일 앤스로픽에 최대 20억 달러를 투자하기로 합의했으며, 이 중 5억 \\n달러를 우선 투자하고 향후 15억 달러를 추가로 투자할 방침\\n∙구글은 2023년 2월 앤스로픽에 이미 5억 5,000만 달러를 투자한 바 있으며, 아마존도 지난 9월 \\n앤스로픽에 최대 40억 달러의 투자 계획을 공개'),\n",
       " Document(page_content='SPRi AI Brief |  \\n2023-12월호\\n12\\nIDC, 2027년 AI 소프트웨어 매출 2,500억 달러 돌파 전망\\nn IDC의 예측에 의하면 AI 소프트웨어 시장은 2027년 2,510억 달러로 달할 전망이며, 생성 \\nAI 플랫폼과 애플리케이션은 2027년까지 283억 달러의 매출을 창출할 전망 \\nn 2023년 기준 AI 소프트웨어 매출의 3분의 1을 차지하는 최대 시장인 AI 애플리케이션은 \\n2027년까지 21.1%의 연평균 성장률을 기록할 전망\\nKEY Contents\\n£ 기업들의 AI 투자 증가에 힘입어 AI 소프트웨어 시장 급성장 예상\\nn 시장조사기관 IDC는 AI 소프트웨어 시장이 2022년 640억 달러에서 2027년 2,510억 달러로 연평\\n균 성장률 31.4%를 기록하며 급성장할 것으로 예상\\n∙AI 소프트웨어 시장은 AI 플랫폼, AI 애플리케이션, AI 시스템 인프라 소프트웨어(SIS), AI 애플리케이션 \\n개발·배포(AI AD&D) 소프트웨어를 포괄'),\n",
       " Document(page_content='1. 정책/법제  \\n2. 기업/산업 \\n3. 기술/연구 \\n 4. 인력/교육\\n빌 게이츠, AI 에이전트로 인한 컴퓨터 사용의 패러다임 변화 전망\\nn 빌 게이츠가 5년 내 일상언어로 모든 작업을 처리할 수 있는 AI 에이전트가 보급되며 컴퓨터를 \\n사용하는 방식이 완전히 바뀔 것으로 예상\\nn 에이전트의 보급은 컴퓨터 분야를 넘어 산업 전 영역에 영향을 미칠 전망으로 특히 의료와 \\n교육, 생산성, 엔터테인먼트·쇼핑 영역에서 고가로 제공되던 서비스가 대중화될 전망\\nKEY Contents\\n£ 5년 내 기기에 일상언어로 말하기만 하면 되는 AI 에이전트의 보급 예상\\nn 빌 게이츠 마이크로소프트 창업자가 2023년 11월 9일 공식 블로그를 통해 AI 에이전트가 컴퓨터 \\n사용방식과 소프트웨어 산업을 완전히 변화시킬 것이라는 전망을 제시\\n∙자연어에 반응하고 사용자에 대한 지식을 바탕으로 다양한 작업을 수행하는 소프트웨어를 의미하는')]"
      ]
     },
     "execution_count": 84,
     "metadata": {},
     "output_type": "execute_result"
    }
   ],
   "source": [
    "from langchain_core.documents import Document\n",
    "\n",
    "selected_docs = [Document(page_content=split_docs[doc]) for doc in selected_indices]\n",
    "selected_docs"
   ]
  },
  {
   "cell_type": "code",
   "execution_count": 82,
   "id": "65ffc8de",
   "metadata": {},
   "outputs": [
    {
     "name": "stdout",
     "output_type": "stream",
     "text": [
      "- 빌 게이츠는 AI 에이전트가 컴퓨터 사용 방식에 큰 변화를 가져올 것이라고 전망했다.\n",
      "- 유튜브는 2024년부터 AI가 생성한 콘텐츠에 대한 표시를 의무화할 계획이다.\n",
      "- 영국 과학혁신기술부는 AI 안전 연구소를 설립한다고 발표했다.\n",
      "- 28개국이 참가한 영국 AI 안전성 정상회의에서 AI 안전 보장을 위한 블레츨리 선언이 발표되었으며, 이는 AI 위험 관리를 위해 모든 이해관계자의 협력을 강조하고 있다.\n",
      "- 첨단 AI 개발 국가와 기업들은 AI 시스템에 대한 안전 테스트 계획에 합의하였고, 영국의 AI 안전 연구소가 이를 주도할 예정이다.\n",
      "- 구글 딥마인드는 범용 AI 모델의 기능과 동작에 대한 새로운 분류 체계를 발표했다.\n",
      "- 갈릴레오의 연구에서 GPT-4가 LLM 환각 지수 평가에서 가장 우수한 성과를 보였다.\n",
      "\n",
      "-----------------\n",
      "\n",
      "\n",
      "- 빌 게이츠는 AI 에이전트가 컴퓨터 사용 방식에 큰 변화를 가져올 것이라고 전망했다.\n",
      "- 유튜브는 2024년부터 AI가 생성한 콘텐츠에 대한 표시를 의무화할 계획이다.\n",
      "- 영국 과학혁신기술부는 AI 안전 연구소를 설립한다고 발표했다.\n",
      "- 28개국이 참가한 영국 AI 안전성 정상회의에서 AI 안전 보장을 위한 블레츨리 선언이 발표되었으며, 이는 AI 위험 관리를 위해 모든 이해관계자의 협력을 강조하고 있다.\n",
      "- 첨단 AI 개발 국가와 기업들은 AI 시스템에 대한 안전 테스트 계획에 합의하였고, 영국의 AI 안전 연구소가 이를 주도할 예정이다.\n",
      "- 구글 딥마인드는 범용 AI 모델의 기능과 동작에 대한 새로운 분류 체계를 발표했다.\n",
      "- 갈릴레오의 연구에서 GPT-4가 LLM 환각 지수 평가에서 가장 우수한 성과를 보였다.\n",
      "- 미국 연방거래위원회(FTC)는 저작권청에 AI와 관련된 소비자 보호 및 경쟁 측면의 의견서를 제출하며, 생성 AI로 인해 창작자와 소비자가 피해를 입을 가능성에 대해 우려를 표명했다.\n",
      "- FTC는 일부 대형 기술 기업들이 막대한 자원을 통해 시장 지배력을 강화할 수 있다는 점에 대한 우려도 제기했다.\n",
      "- 저작권청은 생성 AI와 관련된 저작권법 및 정책 이슈를 조사하고 있으며, 폭넓은 의견 수렴을 진행 중이다.\n",
      "\n",
      "-----------------\n",
      "\n",
      "\n",
      "- 빌 게이츠는 AI 에이전트가 컴퓨터 사용 방식에 큰 변화를 가져올 것이라고 전망했다.\n",
      "- 유튜브는 2024년부터 AI가 생성한 콘텐츠에 대한 표시를 의무화할 계획이다.\n",
      "- 영국 과학혁신기술부는 AI 안전 연구소를 설립한다고 발표했다.\n",
      "- 28개국이 참가한 영국 AI 안전성 정상회의에서 AI 안전 보장을 위한 블레츨리 선언이 발표되었으며, 이는 AI 위험 관리를 위해 모든 이해관계자의 협력을 강조하고 있다.\n",
      "- 첨단 AI 개발 국가와 기업들은 AI 시스템에 대한 안전 테스트 계획에 합의하였고, 영국의 AI 안전 연구소가 이를 주도할 예정이다.\n",
      "- 구글 딥마인드는 범용 AI 모델의 기능과 동작에 대한 새로운 분류 체계를 발표했다.\n",
      "- 갈릴레오의 연구에서 GPT-4가 LLM 환각 지수 평가에서 가장 우수한 성과를 보였다.\n",
      "- 미국 연방거래위원회(FTC)는 저작권청에 AI와 관련된 소비자 보호 및 경쟁 측면의 의견서를 제출하며, 생성 AI로 인해 창작자와 소비자가 피해를 입을 가능성에 대해 우려를 표명했다.\n",
      "- FTC는 일부 대형 기술 기업들이 막대한 자원을 통해 시장 지배력을 강화할 수 있다는 점에 대한 우려도 제기했다.\n",
      "- 저작권청은 생성 AI와 관련된 저작권법 및 정책 이슈를 조사하고 있으며, 폭넓은 의견 수렴을 진행 중이다.\n",
      "- EU의 AI 법 최종협상에서 프랑스, 이탈리아, 독일이 기반모델 규제에 반대하여 협상이 어려움을 겪고 있으며, 이들 국가는 기반모델 개발기업에 자율적 행동강령을 도입하고 이를 의무화하는 방안을 제안하였다.\n",
      "- 10월 24일 회의에서는 사회에 미치는 영향이 큰 AI 모델에 대해 더 엄격한 규칙을 적용하는 계층적 접근방식에 대한 기본 합의가 이루어졌다.\n",
      "\n",
      "-----------------\n",
      "\n",
      "\n",
      "- 빌 게이츠는 AI 에이전트가 컴퓨터 사용 방식에 큰 변화를 가져올 것이라고 전망했다.\n",
      "- 유튜브는 2024년부터 AI가 생성한 콘텐츠에 대한 표시를 의무화할 계획이다.\n",
      "- 영국 과학혁신기술부는 AI 안전 연구소를 설립한다고 발표했다.\n",
      "- 28개국이 참가한 영국 AI 안전성 정상회의에서 AI 안전 보장을 위한 블레츨리 선언이 발표되었으며, 이는 AI 위험 관리를 위해 모든 이해관계자의 협력을 강조하고 있다.\n",
      "- 첨단 AI 개발 국가와 기업들은 AI 시스템에 대한 안전 테스트 계획에 합의하였고, 영국의 AI 안전 연구소가 이를 주도할 예정이다.\n",
      "- AI 안전 기금을 통해 외부 연구집단의 AI 시스템 평가에 자금을 지원할 계획이며, AI 레드팀을 위한 새로운 모델 평가 기법 개발이 중점적으로 지원될 예정이다.\n",
      "- AI 레드팀에 대한 자금 지원은 AI 모델의 안전과 보안 기준 개선에 기여할 것으로 예상되며, 포럼은 향후 몇 달 내에 기금 지원을 위한 제안 요청을 받을 계획이다.\n",
      "- 또한, 첨단 AI 모델의 취약점 및 위험 완화 정보를 공유할 수 있는 공개 절차도 개발 중이다.\n",
      "- 구글 딥마인드는 범용 AI 모델의 기능과 동작에 대한 새로운 분류 체계를 발표했다.\n",
      "- 갈릴레오의 연구에서 GPT-4가 LLM 환각 지수 평가에서 가장 우수한 성과를 보였다.\n",
      "- 미국 연방거래위원회(FTC)는 저작권청에 AI와 관련된 소비자 보호 및 경쟁 측면의 의견서를 제출하며, 생성 AI로 인해 창작자와 소비자가 피해를 입을 가능성에 대해 우려를 표명했다.\n",
      "- FTC는 일부 대형 기술 기업들이 막대한 자원을 통해 시장 지배력을 강화할 수 있다는 점에 대한 우려도 제기했다.\n",
      "- 저작권청은 생성 AI와 관련된 저작권법 및 정책 이슈를 조사하고 있으며, 폭넓은 의견 수렴을 진행 중이다.\n",
      "- EU의 AI 법 최종협상에서 프랑스, 이탈리아, 독일이 기반모델 규제에 반대하여 협상이 어려움을 겪고 있으며, 이들 국가는 기반모델 개발기업에 자율적 행동강령을 도입하고 이를 의무화하는 방안을 제안하였다.\n",
      "- 10월 24일 회의에서는 사회에 미치는 영향이 큰 AI 모델에 대해 더 엄격한 규칙을 적용하는 계층적 접근방식에 대한 기본 합의가 이루어졌다.\n",
      "\n",
      "-----------------\n",
      "\n",
      "\n",
      "- 빌 게이츠는 AI 에이전트가 컴퓨터 사용 방식에 큰 변화를 가져올 것이라고 전망했다.\n",
      "- 유튜브는 2024년부터 AI가 생성한 콘텐츠에 대한 표시를 의무화할 계획이다.\n",
      "- 영국 과학혁신기술부는 AI 안전 연구소를 설립한다고 발표했다.\n",
      "- 28개국이 참가한 영국 AI 안전성 정상회의에서 AI 안전 보장을 위한 블레츨리 선언이 발표되었으며, 이는 AI 위험 관리를 위해 모든 이해관계자의 협력을 강조하고 있다.\n",
      "- 첨단 AI 개발 국가와 기업들은 AI 시스템에 대한 안전 테스트 계획에 합의하였고, 영국의 AI 안전 연구소가 이를 주도할 예정이다.\n",
      "- AI 안전 기금을 통해 외부 연구집단의 AI 시스템 평가에 자금을 지원할 계획이며, AI 레드팀을 위한 새로운 모델 평가 기법 개발이 중점적으로 지원될 예정이다.\n",
      "- AI 레드팀에 대한 자금 지원은 AI 모델의 안전과 보안 기준 개선에 기여할 것으로 예상되며, 포럼은 향후 몇 달 내에 기금 지원을 위한 제안 요청을 받을 계획이다.\n",
      "- 또한, 첨단 AI 모델의 취약점 및 위험 완화 정보를 공유할 수 있는 공개 절차도 개발 중이다.\n",
      "- 구글 딥마인드는 범용 AI 모델의 기능과 동작에 대한 새로운 분류 체계를 발표했다.\n",
      "- 갈릴레오의 연구에서 GPT-4가 LLM 환각 지수 평가에서 가장 우수한 성과를 보였다.\n",
      "- 미국 연방거래위원회(FTC)는 저작권청에 AI와 관련된 소비자 보호 및 경쟁 측면의 의견서를 제출하며, 생성 AI로 인해 창작자와 소비자가 피해를 입을 가능성에 대해 우려를 표명했다.\n",
      "- FTC는 일부 대형 기술 기업들이 막대한 자원을 통해 시장 지배력을 강화할 수 있다는 점에 대한 우려도 제기했다.\n",
      "- 저작권청은 생성 AI와 관련된 저작권법 및 정책 이슈를 조사하고 있으며, 폭넓은 의견 수렴을 진행 중이다.\n",
      "- EU의 AI 법 최종협상에서 프랑스, 이탈리아, 독일이 기반모델 규제에 반대하여 협상이 어려움을 겪고 있으며, 이들 국가는 기반모델 개발기업에 자율적 행동강령을 도입하고 이를 의무화하는 방안을 제안하였다.\n",
      "- 10월 24일 회의에서는 사회에 미치는 영향이 큰 AI 모델에 대해 더 엄격한 규칙을 적용하는 계층적 접근방식에 대한 기본 합의가 이루어졌다.\n",
      "- AI 모델 훈련에 사용되는 데이터셋의 출처가 불분명하여 법적 및 윤리적 문제가 발생하고 있으며, 연구진은 2,000여 개의 미세조정 데이터셋을 감사하여 원본 데이터소스, 재라이선스 상태, 작성자 등의 정보를 태그하고 이를 확인할 수 있는 플랫폼을 개발했다.\n",
      "- 이 플랫폼은 데이터셋의 라이선스 상태와 구성, 데이터 계보를 쉽게 추적할 수 있는 대화형 탐색기를 제공한다.\n",
      "- 오픈소스 데이터셋에 대한 감사 결과, GitHub와 Papers with Code에서 수집된 데이터로 훈련된 LLM의 데이터 라이선스 누락 비율이 72~83%에 이르는 것으로 나타났다.\n",
      "\n",
      "-----------------\n",
      "\n",
      "\n",
      "- 빌 게이츠는 AI 에이전트가 컴퓨터 사용 방식에 큰 변화를 가져올 것이라고 전망했다.\n",
      "- 유튜브는 2024년부터 AI가 생성한 콘텐츠에 대한 표시를 의무화할 계획이다.\n",
      "- 영국 과학혁신기술부는 AI 안전 연구소를 설립한다고 발표했다.\n",
      "- 28개국이 참가한 영국 AI 안전성 정상회의에서 AI 안전 보장을 위한 블레츨리 선언이 발표되었으며, 이는 AI 위험 관리를 위해 모든 이해관계자의 협력을 강조하고 있다.\n",
      "- 첨단 AI 개발 국가와 기업들은 AI 시스템에 대한 안전 테스트 계획에 합의하였고, 영국의 AI 안전 연구소가 이를 주도할 예정이다.\n",
      "- AI 안전 기금을 통해 외부 연구집단의 AI 시스템 평가에 자금을 지원할 계획이며, AI 레드팀을 위한 새로운 모델 평가 기법 개발이 중점적으로 지원될 예정이다.\n",
      "- AI 레드팀에 대한 자금 지원은 AI 모델의 안전과 보안 기준 개선에 기여할 것으로 예상되며, 포럼은 향후 몇 달 내에 기금 지원을 위한 제안 요청을 받을 계획이다.\n",
      "- 또한, 첨단 AI 모델의 취약점 및 위험 완화 정보를 공유할 수 있는 공개 절차도 개발 중이다.\n",
      "- 구글 딥마인드는 범용 AI 모델의 기능과 동작에 대한 새로운 분류 체계를 발표했다.\n",
      "- 갈릴레오의 연구에서 GPT-4가 LLM 환각 지수 평가에서 가장 우수한 성과를 보였다.\n",
      "- 미국 연방거래위원회(FTC)는 저작권청에 AI와 관련된 소비자 보호 및 경쟁 측면의 의견서를 제출하며, 생성 AI로 인해 창작자와 소비자가 피해를 입을 가능성에 대해 우려를 표명했다.\n",
      "- FTC는 일부 대형 기술 기업들이 막대한 자원을 통해 시장 지배력을 강화할 수 있다는 점에 대한 우려도 제기했다.\n",
      "- 저작권청은 생성 AI와 관련된 저작권법 및 정책 이슈를 조사하고 있으며, 폭넓은 의견 수렴을 진행 중이다.\n",
      "- EU의 AI 법 최종협상에서 프랑스, 이탈리아, 독일이 기반모델 규제에 반대하여 협상이 어려움을 겪고 있으며, 이들 국가는 기반모델 개발기업에 자율적 행동강령을 도입하고 이를 의무화하는 방안을 제안하였다.\n",
      "- 10월 24일 회의에서는 사회에 미치는 영향이 큰 AI 모델에 대해 더 엄격한 규칙을 적용하는 계층적 접근방식에 대한 기본 합의가 이루어졌다.\n",
      "- AI 모델 훈련에 사용되는 데이터셋의 출처가 불분명하여 법적 및 윤리적 문제가 발생하고 있으며, 연구진은 2,000여 개의 미세조정 데이터셋을 감사하여 원본 데이터소스, 재라이선스 상태, 작성자 등의 정보를 태그하고 이를 확인할 수 있는 플랫폼을 개발했다.\n",
      "- 이 플랫폼은 데이터셋의 라이선스 상태와 구성, 데이터 계보를 쉽게 추적할 수 있는 대화형 탐색기를 제공한다.\n",
      "- 오픈소스 데이터셋에 대한 감사 결과, GitHub와 Papers with Code에서 수집된 데이터로 훈련된 LLM의 데이터 라이선스 누락 비율이 72~83%에 이르는 것으로 나타났다.\n",
      "- 알리바바 클라우드는 통이치엔원 2.0을 2023년 4월에 출시하였으며, 이전 버전보다 성능이 향상되었다고 발표했다.\n",
      "- 통이치엔원 2.0은 언어 이해, 수학, 질문 답변 등 다양한 벤치마크 테스트에서 주요 AI 모델들을 초월하는 성과를 보였다.\n",
      "- 이 모델은 알리바바 클라우드의 웹사이트와 모바일 앱을 통해 대중에게 제공되며, 개발자는 API를 통해 접근할 수 있다.\n",
      "- 알리바바 클라우드는 생성 AI를 활용하여 여러 산업 분야에서 사업 성과를 개선할 수 있는 산업별 모델도 출시하였다. 지원하는 산업 분야에는 고객 지원, 법률 상담, 의료, 금융, 문서 관리, 오디오 및 동영상 관리, 코드 개발, 캐릭터 제작 등이 포함된다.\n",
      "\n",
      "-----------------\n",
      "\n",
      "\n",
      "- 빌 게이츠는 AI 에이전트가 컴퓨터 사용 방식에 큰 변화를 가져올 것이라고 전망했다.\n",
      "- 유튜브는 2024년부터 AI가 생성한 콘텐츠에 대한 표시를 의무화할 계획이다.\n",
      "- 영국 과학혁신기술부는 AI 안전 연구소를 설립한다고 발표했다.\n",
      "- 28개국이 참가한 영국 AI 안전성 정상회의에서 AI 안전 보장을 위한 블레츨리 선언이 발표되었으며, 이는 AI 위험 관리를 위해 모든 이해관계자의 협력을 강조하고 있다.\n",
      "- 첨단 AI 개발 국가와 기업들은 AI 시스템에 대한 안전 테스트 계획에 합의하였고, 영국의 AI 안전 연구소가 이를 주도할 예정이다.\n",
      "- AI 안전 기금을 통해 외부 연구집단의 AI 시스템 평가에 자금을 지원할 계획이며, AI 레드팀을 위한 새로운 모델 평가 기법 개발이 중점적으로 지원될 예정이다.\n",
      "- AI 레드팀에 대한 자금 지원은 AI 모델의 안전과 보안 기준 개선에 기여할 것으로 예상되며, 포럼은 향후 몇 달 내에 기금 지원을 위한 제안 요청을 받을 계획이다.\n",
      "- 또한, 첨단 AI 모델의 취약점 및 위험 완화 정보를 공유할 수 있는 공개 절차도 개발 중이다.\n",
      "- 구글 딥마인드는 범용 AI 모델의 기능과 동작에 대한 새로운 분류 체계를 발표했다.\n",
      "- 갈릴레오의 연구에서 GPT-4가 LLM 환각 지수 평가에서 가장 우수한 성과를 보였다.\n",
      "- 미국 연방거래위원회(FTC)는 저작권청에 AI와 관련된 소비자 보호 및 경쟁 측면의 의견서를 제출하며, 생성 AI로 인해 창작자와 소비자가 피해를 입을 가능성에 대해 우려를 표명했다.\n",
      "- FTC는 일부 대형 기술 기업들이 막대한 자원을 통해 시장 지배력을 강화할 수 있다는 점에 대한 우려도 제기했다.\n",
      "- 저작권청은 생성 AI와 관련된 저작권법 및 정책 이슈를 조사하고 있으며, 폭넓은 의견 수렴을 진행 중이다.\n",
      "- EU의 AI 법 최종협상에서 프랑스, 이탈리아, 독일이 기반모델 규제에 반대하여 협상이 어려움을 겪고 있으며, 이들 국가는 기반모델 개발기업에 자율적 행동강령을 도입하고 이를 의무화하는 방안을 제안하였다.\n",
      "- 10월 24일 회의에서는 사회에 미치는 영향이 큰 AI 모델에 대해 더 엄격한 규칙을 적용하는 계층적 접근방식에 대한 기본 합의가 이루어졌다.\n",
      "- AI 모델 훈련에 사용되는 데이터셋의 출처가 불분명하여 법적 및 윤리적 문제가 발생하고 있으며, 연구진은 2,000여 개의 미세조정 데이터셋을 감사하여 원본 데이터소스, 재라이선스 상태, 작성자 등의 정보를 태그하고 이를 확인할 수 있는 플랫폼을 개발했다.\n",
      "- 이 플랫폼은 데이터셋의 라이선스 상태와 구성, 데이터 계보를 쉽게 추적할 수 있는 대화형 탐색기를 제공한다.\n",
      "- 오픈소스 데이터셋에 대한 감사 결과, GitHub와 Papers with Code에서 수집된 데이터로 훈련된 LLM의 데이터 라이선스 누락 비율이 72~83%에 이르는 것으로 나타났다.\n",
      "- 알리바바 클라우드는 통이치엔원 2.0을 2023년 4월에 출시하였으며, 이전 버전보다 성능이 향상되었다고 발표했다.\n",
      "- 통이치엔원 2.0은 언어 이해, 수학, 질문 답변 등 다양한 벤치마크 테스트에서 주요 AI 모델들을 초월하는 성과를 보였다.\n",
      "- 이 모델은 알리바바 클라우드의 웹사이트와 모바일 앱을 통해 대중에게 제공되며, 개발자는 API를 통해 접근할 수 있다.\n",
      "- 알리바바 클라우드는 생성 AI를 활용하여 여러 산업 분야에서 사업 성과를 개선할 수 있는 산업별 모델도 출시하였다. 지원하는 산업 분야에는 고객 지원, 법률 상담, 의료, 금융, 문서 관리, 오디오 및 동영상 관리, 코드 개발, 캐릭터 제작 등이 포함된다.\n",
      "- 구글은 앤스로픽에 최대 20억 달러를 투자하기로 합의하고, 5억 달러를 우선 투자했다.\n",
      "- 앤스로픽은 구글과 클라우드 서비스 사용 계약을 체결하였다.\n",
      "- 구글, 마이크로소프트, 아마존 등 주요 클라우드 사업자들은 차세대 AI 모델 기업인 앤스로픽 및 오픈AI와의 협력을 강화하고 있다.\n",
      "- 구글은 2023년 2월에도 앤스로픽에 5억 5,000만 달러를 투자한 바 있다.\n",
      "- 아마존은 앤스로픽에 최대 40억 달러의 투자 계획을 발표하였다.\n",
      "\n",
      "-----------------\n",
      "\n",
      "\n",
      "- 빌 게이츠는 AI 에이전트가 컴퓨터 사용 방식에 큰 변화를 가져올 것이라고 전망했다.\n",
      "- 유튜브는 2024년부터 AI가 생성한 콘텐츠에 대한 표시를 의무화할 계획이다.\n",
      "- 영국 과학혁신기술부는 AI 안전 연구소를 설립한다고 발표했다.\n",
      "- 28개국이 참가한 영국 AI 안전성 정상회의에서 AI 안전 보장을 위한 블레츨리 선언이 발표되었으며, 이는 AI 위험 관리를 위해 모든 이해관계자의 협력을 강조하고 있다.\n",
      "- 첨단 AI 개발 국가와 기업들은 AI 시스템에 대한 안전 테스트 계획에 합의하였고, 영국의 AI 안전 연구소가 이를 주도할 예정이다.\n",
      "- AI 안전 기금을 통해 외부 연구집단의 AI 시스템 평가에 자금을 지원할 계획이며, AI 레드팀을 위한 새로운 모델 평가 기법 개발이 중점적으로 지원될 예정이다.\n",
      "- AI 레드팀에 대한 자금 지원은 AI 모델의 안전과 보안 기준 개선에 기여할 것으로 예상되며, 포럼은 향후 몇 달 내에 기금 지원을 위한 제안 요청을 받을 계획이다.\n",
      "- 또한, 첨단 AI 모델의 취약점 및 위험 완화 정보를 공유할 수 있는 공개 절차도 개발 중이다.\n",
      "- 구글 딥마인드는 범용 AI 모델의 기능과 동작에 대한 새로운 분류 체계를 발표했다.\n",
      "- 갈릴레오의 연구에서 GPT-4가 LLM 환각 지수 평가에서 가장 우수한 성과를 보였다.\n",
      "- 미국 연방거래위원회(FTC)는 저작권청에 AI와 관련된 소비자 보호 및 경쟁 측면의 의견서를 제출하며, 생성 AI로 인해 창작자와 소비자가 피해를 입을 가능성에 대해 우려를 표명했다.\n",
      "- FTC는 일부 대형 기술 기업들이 막대한 자원을 통해 시장 지배력을 강화할 수 있다는 점에 대한 우려도 제기했다.\n",
      "- 저작권청은 생성 AI와 관련된 저작권법 및 정책 이슈를 조사하고 있으며, 폭넓은 의견 수렴을 진행 중이다.\n",
      "- EU의 AI 법 최종협상에서 프랑스, 이탈리아, 독일이 기반모델 규제에 반대하여 협상이 어려움을 겪고 있으며, 이들 국가는 기반모델 개발기업에 자율적 행동강령을 도입하고 이를 의무화하는 방안을 제안하였다.\n",
      "- 10월 24일 회의에서는 사회에 미치는 영향이 큰 AI 모델에 대해 더 엄격한 규칙을 적용하는 계층적 접근방식에 대한 기본 합의가 이루어졌다.\n",
      "- AI 모델 훈련에 사용되는 데이터셋의 출처가 불분명하여 법적 및 윤리적 문제가 발생하고 있으며, 연구진은 2,000여 개의 미세조정 데이터셋을 감사하여 원본 데이터소스, 재라이선스 상태, 작성자 등의 정보를 태그하고 이를 확인할 수 있는 플랫폼을 개발했다.\n",
      "- 이 플랫폼은 데이터셋의 라이선스 상태와 구성, 데이터 계보를 쉽게 추적할 수 있는 대화형 탐색기를 제공한다.\n",
      "- 오픈소스 데이터셋에 대한 감사 결과, GitHub와 Papers with Code에서 수집된 데이터로 훈련된 LLM의 데이터 라이선스 누락 비율이 72~83%에 이르는 것으로 나타났다.\n",
      "- 알리바바 클라우드는 통이치엔원 2.0을 2023년 4월에 출시하였으며, 이전 버전보다 성능이 향상되었다고 발표했다.\n",
      "- 통이치엔원 2.0은 언어 이해, 수학, 질문 답변 등 다양한 벤치마크 테스트에서 주요 AI 모델들을 초월하는 성과를 보였다.\n",
      "- 이 모델은 알리바바 클라우드의 웹사이트와 모바일 앱을 통해 대중에게 제공되며, 개발자는 API를 통해 접근할 수 있다.\n",
      "- 알리바바 클라우드는 생성 AI를 활용하여 여러 산업 분야에서 사업 성과를 개선할 수 있는 산업별 모델도 출시하였다. 지원하는 산업 분야에는 고객 지원, 법률 상담, 의료, 금융, 문서 관리, 오디오 및 동영상 관리, 코드 개발, 캐릭터 제작 등이 포함된다.\n",
      "- 구글은 앤스로픽에 최대 20억 달러를 투자하기로 합의하고, 5억 달러를 우선 투자했다.\n",
      "- 앤스로픽은 구글과 클라우드 서비스 사용 계약을 체결하였다.\n",
      "- 구글, 마이크로소프트, 아마존 등 주요 클라우드 사업자들은 차세대 AI 모델 기업인 앤스로픽 및 오픈AI와의 협력을 강화하고 있다.\n",
      "- 구글은 2023년 2월에도 앤스로픽에 5억 5,000만 달러를 투자한 바 있다.\n",
      "- 아마존은 앤스로픽에 최대 40억 달러의 투자 계획을 발표하였다.\n",
      "- IDC는 2027년까지 AI 소프트웨어 매출이 2,510억 달러에 이를 것으로 전망하고 있으며, 생성 AI 플랫폼과 애플리케이션은 2027년까지 283억 달러의 매출을 창출할 것으로 예상된다.\n",
      "- 2023년 기준 AI 애플리케이션은 AI 소프트웨어 매출의 3분의 1을 차지하며, 2027년까지 연평균 21.1% 성장할 것으로 보인다.\n",
      "- AI 소프트웨어 시장은 2022년 640억 달러에서 2027년 2,510억 달러로 성장하며, 연평균 성장률은 31.4%에 이를 것으로 예상된다. 이 시장은 AI 플랫폼, AI 애플리케이션, AI 시스템 인프라 소프트웨어, AI 애플리케이션 개발 및 배포 소프트웨어를 포함한다.\n",
      "\n",
      "-----------------\n",
      "\n",
      "\n",
      "- 빌 게이츠는 5년 내에 일상 언어로 모든 작업을 처리할 수 있는 AI 에이전트가 보급될 것이라고 전망하며, 이러한 AI 에이전트가 컴퓨터 사용 방식을 완전히 변화시키고 소프트웨어 산업에도 큰 영향을 미칠 것으로 예상하고 있다. AI 에이전트의 도입은 의료, 교육, 생산성, 엔터테인먼트 및 쇼핑 등 다양한 산업 분야에서 고가의 서비스가 대중화되는 계기가 될 것이다.\n",
      "- 유튜브는 2024년부터 AI가 생성한 콘텐츠에 대한 표시를 의무화할 계획이다.\n",
      "- 영국 과학혁신기술부는 AI 안전 연구소를 설립한다고 발표했다.\n",
      "- 28개국이 참가한 영국 AI 안전성 정상회의에서 AI 안전 보장을 위한 블레츨리 선언이 발표되었으며, 이는 AI 위험 관리를 위해 모든 이해관계자의 협력을 강조하고 있다.\n",
      "- 첨단 AI 개발 국가와 기업들은 AI 시스템에 대한 안전 테스트 계획에 합의하였고, 영국의 AI 안전 연구소가 이를 주도할 예정이다.\n",
      "- AI 안전 기금을 통해 외부 연구집단의 AI 시스템 평가에 자금을 지원할 계획이며, AI 레드팀을 위한 새로운 모델 평가 기법 개발이 중점적으로 지원될 예정이다.\n",
      "- AI 레드팀에 대한 자금 지원은 AI 모델의 안전과 보안 기준 개선에 기여할 것으로 예상되며, 포럼은 향후 몇 달 내에 기금 지원을 위한 제안 요청을 받을 계획이다.\n",
      "- 또한, 첨단 AI 모델의 취약점 및 위험 완화 정보를 공유할 수 있는 공개 절차도 개발 중이다.\n",
      "- 구글 딥마인드는 범용 AI 모델의 기능과 동작에 대한 새로운 분류 체계를 발표했다.\n",
      "- 갈릴레오의 연구에서 GPT-4가 LLM 환각 지수 평가에서 가장 우수한 성과를 보였다.\n",
      "- 미국 연방거래위원회(FTC)는 저작권청에 AI와 관련된 소비자 보호 및 경쟁 측면의 의견서를 제출하며, 생성 AI로 인해 창작자와 소비자가 피해를 입을 가능성에 대해 우려를 표명했다.\n",
      "- FTC는 일부 대형 기술 기업들이 막대한 자원을 통해 시장 지배력을 강화할 수 있다는 점에 대한 우려도 제기했다.\n",
      "- 저작권청은 생성 AI와 관련된 저작권법 및 정책 이슈를 조사하고 있으며, 폭넓은 의견 수렴을 진행 중이다.\n",
      "- EU의 AI 법 최종협상에서 프랑스, 이탈리아, 독일이 기반모델 규제에 반대하여 협상이 어려움을 겪고 있으며, 이들 국가는 기반모델 개발기업에 자율적 행동강령을 도입하고 이를 의무화하는 방안을 제안하였다.\n",
      "- 10월 24일 회의에서는 사회에 미치는 영향이 큰 AI 모델에 대해 더 엄격한 규칙을 적용하는 계층적 접근방식에 대한 기본 합의가 이루어졌다.\n",
      "- AI 모델 훈련에 사용되는 데이터셋의 출처가 불분명하여 법적 및 윤리적 문제가 발생하고 있으며, 연구진은 2,000여 개의 미세조정 데이터셋을 감사하여 원본 데이터소스, 재라이선스 상태, 작성자 등의 정보를 태그하고 이를 확인할 수 있는 플랫폼을 개발했다.\n",
      "- 이 플랫폼은 데이터셋의 라이선스 상태와 구성, 데이터 계보를 쉽게 추적할 수 있는 대화형 탐색기를 제공한다.\n",
      "- 오픈소스 데이터셋에 대한 감사 결과, GitHub와 Papers with Code에서 수집된 데이터로 훈련된 LLM의 데이터 라이선스 누락 비율이 72~83%에 이르는 것으로 나타났다.\n",
      "- 알리바바 클라우드는 통이치엔원 2.0을 2023년 4월에 출시하였으며, 이전 버전보다 성능이 향상되었다고 발표했다.\n",
      "- 통이치엔원 2.0은 언어 이해, 수학, 질문 답변 등 다양한 벤치마크 테스트에서 주요 AI 모델들을 초월하는 성과를 보였다.\n",
      "- 이 모델은 알리바바 클라우드의 웹사이트와 모바일 앱을 통해 대중에게 제공되며, 개발자는 API를 통해 접근할 수 있다.\n",
      "- 알리바바 클라우드는 생성 AI를 활용하여 여러 산업 분야에서 사업 성과를 개선할 수 있는 산업별 모델도 출시하였다. 지원하는 산업 분야에는 고객 지원, 법률 상담, 의료, 금융, 문서 관리, 오디오 및 동영상 관리, 코드 개발, 캐릭터 제작 등이 포함된다.\n",
      "- 구글은 앤스로픽에 최대 20억 달러를 투자하기로 합의하고, 5억 달러를 우선 투자했다.\n",
      "- 앤스로픽은 구글과 클라우드 서비스 사용 계약을 체결하였다.\n",
      "- 구글, 마이크로소프트, 아마존 등 주요 클라우드 사업자들은 차세대 AI 모델 기업인 앤스로픽 및 오픈AI와의 협력을 강화하고 있다.\n",
      "- 구글은 2023년 2월에도 앤스로픽에 5억 5,000만 달러를 투자한 바 있다.\n",
      "- 아마존은 앤스로픽에 최대 40억 달러의 투자 계획을 발표하였다.\n",
      "- IDC는 2027년까지 AI 소프트웨어 매출이 2,510억 달러에 이를 것으로 전망하고 있으며, 생성 AI 플랫폼과 애플리케이션은 2027년까지 283억 달러의 매출을 창출할 것으로 예상된다.\n",
      "- 2023년 기준 AI 애플리케이션은 AI 소프트웨어 매출의 3분의 1을 차지하며, 2027년까지 연평균 21.1% 성장할 것으로 보인다.\n",
      "- AI 소프트웨어 시장은 2022년 640억 달러에서 2027년 2,510억 달러로 성장하며, 연평균 성장률은 31.4%에 이를 것으로 예상된다. 이 시장은 AI 플랫폼, AI 애플리케이션, AI 시스템 인프라 소프트웨어, AI 애플리케이션 개발 및 배포 소프트웨어를 포함한다.\n",
      "\n",
      "-----------------\n",
      "\n",
      "\n"
     ]
    }
   ],
   "source": [
    "# 이전에 생성한 map_refine_chain을 사용하여 요약 생성\n",
    "refined_summary = map_refine_chain.invoke(selected_docs)"
   ]
  },
  {
   "cell_type": "code",
   "execution_count": 83,
   "id": "4846d026",
   "metadata": {},
   "outputs": [
    {
     "name": "stdout",
     "output_type": "stream",
     "text": [
      "- 빌 게이츠는 5년 내에 일상 언어로 모든 작업을 처리할 수 있는 AI 에이전트가 보급될 것이라고 전망하며, 이러한 AI 에이전트가 컴퓨터 사용 방식을 완전히 변화시키고 소프트웨어 산업에도 큰 영향을 미칠 것으로 예상하고 있다. AI 에이전트의 도입은 의료, 교육, 생산성, 엔터테인먼트 및 쇼핑 등 다양한 산업 분야에서 고가의 서비스가 대중화되는 계기가 될 것이다.\n",
      "- 유튜브는 2024년부터 AI가 생성한 콘텐츠에 대한 표시를 의무화할 계획이다.\n",
      "- 영국 과학혁신기술부는 AI 안전 연구소를 설립한다고 발표했다.\n",
      "- 28개국이 참가한 영국 AI 안전성 정상회의에서 AI 안전 보장을 위한 블레츨리 선언이 발표되었으며, 이는 AI 위험 관리를 위해 모든 이해관계자의 협력을 강조하고 있다.\n",
      "- 첨단 AI 개발 국가와 기업들은 AI 시스템에 대한 안전 테스트 계획에 합의하였고, 영국의 AI 안전 연구소가 이를 주도할 예정이다.\n",
      "- AI 안전 기금을 통해 외부 연구집단의 AI 시스템 평가에 자금을 지원할 계획이며, AI 레드팀을 위한 새로운 모델 평가 기법 개발이 중점적으로 지원될 예정이다.\n",
      "- AI 레드팀에 대한 자금 지원은 AI 모델의 안전과 보안 기준 개선에 기여할 것으로 예상되며, 포럼은 향후 몇 달 내에 기금 지원을 위한 제안 요청을 받을 계획이다.\n",
      "- 또한, 첨단 AI 모델의 취약점 및 위험 완화 정보를 공유할 수 있는 공개 절차도 개발 중이다.\n",
      "- 구글 딥마인드는 범용 AI 모델의 기능과 동작에 대한 새로운 분류 체계를 발표했다.\n",
      "- 갈릴레오의 연구에서 GPT-4가 LLM 환각 지수 평가에서 가장 우수한 성과를 보였다.\n",
      "- 미국 연방거래위원회(FTC)는 저작권청에 AI와 관련된 소비자 보호 및 경쟁 측면의 의견서를 제출하며, 생성 AI로 인해 창작자와 소비자가 피해를 입을 가능성에 대해 우려를 표명했다.\n",
      "- FTC는 일부 대형 기술 기업들이 막대한 자원을 통해 시장 지배력을 강화할 수 있다는 점에 대한 우려도 제기했다.\n",
      "- 저작권청은 생성 AI와 관련된 저작권법 및 정책 이슈를 조사하고 있으며, 폭넓은 의견 수렴을 진행 중이다.\n",
      "- EU의 AI 법 최종협상에서 프랑스, 이탈리아, 독일이 기반모델 규제에 반대하여 협상이 어려움을 겪고 있으며, 이들 국가는 기반모델 개발기업에 자율적 행동강령을 도입하고 이를 의무화하는 방안을 제안하였다.\n",
      "- 10월 24일 회의에서는 사회에 미치는 영향이 큰 AI 모델에 대해 더 엄격한 규칙을 적용하는 계층적 접근방식에 대한 기본 합의가 이루어졌다.\n",
      "- AI 모델 훈련에 사용되는 데이터셋의 출처가 불분명하여 법적 및 윤리적 문제가 발생하고 있으며, 연구진은 2,000여 개의 미세조정 데이터셋을 감사하여 원본 데이터소스, 재라이선스 상태, 작성자 등의 정보를 태그하고 이를 확인할 수 있는 플랫폼을 개발했다.\n",
      "- 이 플랫폼은 데이터셋의 라이선스 상태와 구성, 데이터 계보를 쉽게 추적할 수 있는 대화형 탐색기를 제공한다.\n",
      "- 오픈소스 데이터셋에 대한 감사 결과, GitHub와 Papers with Code에서 수집된 데이터로 훈련된 LLM의 데이터 라이선스 누락 비율이 72~83%에 이르는 것으로 나타났다.\n",
      "- 알리바바 클라우드는 통이치엔원 2.0을 2023년 4월에 출시하였으며, 이전 버전보다 성능이 향상되었다고 발표했다.\n",
      "- 통이치엔원 2.0은 언어 이해, 수학, 질문 답변 등 다양한 벤치마크 테스트에서 주요 AI 모델들을 초월하는 성과를 보였다.\n",
      "- 이 모델은 알리바바 클라우드의 웹사이트와 모바일 앱을 통해 대중에게 제공되며, 개발자는 API를 통해 접근할 수 있다.\n",
      "- 알리바바 클라우드는 생성 AI를 활용하여 여러 산업 분야에서 사업 성과를 개선할 수 있는 산업별 모델도 출시하였다. 지원하는 산업 분야에는 고객 지원, 법률 상담, 의료, 금융, 문서 관리, 오디오 및 동영상 관리, 코드 개발, 캐릭터 제작 등이 포함된다.\n",
      "- 구글은 앤스로픽에 최대 20억 달러를 투자하기로 합의하고, 5억 달러를 우선 투자했다.\n",
      "- 앤스로픽은 구글과 클라우드 서비스 사용 계약을 체결하였다.\n",
      "- 구글, 마이크로소프트, 아마존 등 주요 클라우드 사업자들은 차세대 AI 모델 기업인 앤스로픽 및 오픈AI와의 협력을 강화하고 있다.\n",
      "- 구글은 2023년 2월에도 앤스로픽에 5억 5,000만 달러를 투자한 바 있다.\n",
      "- 아마존은 앤스로픽에 최대 40억 달러의 투자 계획을 발표하였다.\n",
      "- IDC는 2027년까지 AI 소프트웨어 매출이 2,510억 달러에 이를 것으로 전망하고 있으며, 생성 AI 플랫폼과 애플리케이션은 2027년까지 283억 달러의 매출을 창출할 것으로 예상된다.\n",
      "- 2023년 기준 AI 애플리케이션은 AI 소프트웨어 매출의 3분의 1을 차지하며, 2027년까지 연평균 21.1% 성장할 것으로 보인다.\n",
      "- AI 소프트웨어 시장은 2022년 640억 달러에서 2027년 2,510억 달러로 성장하며, 연평균 성장률은 31.4%에 이를 것으로 예상된다. 이 시장은 AI 플랫폼, AI 애플리케이션, AI 시스템 인프라 소프트웨어, AI 애플리케이션 개발 및 배포 소프트웨어를 포함한다.\n"
     ]
    }
   ],
   "source": [
    "# 최종 결과 출력\n",
    "print(refined_summary)"
   ]
  }
 ],
 "metadata": {
  "kernelspec": {
   "display_name": "py-test",
   "language": "python",
   "name": "python3"
  },
  "language_info": {
   "codemirror_mode": {
    "name": "ipython",
    "version": 3
   },
   "file_extension": ".py",
   "mimetype": "text/x-python",
   "name": "python",
   "nbconvert_exporter": "python",
   "pygments_lexer": "ipython3",
   "version": "3.11.9"
  }
 },
 "nbformat": 4,
 "nbformat_minor": 5
}
